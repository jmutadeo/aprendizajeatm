{
  "nbformat": 4,
  "nbformat_minor": 0,
  "metadata": {
    "colab": {
      "name": "TallerPython_N1.ipynb",
      "version": "0.3.2",
      "provenance": [],
      "collapsed_sections": [
        "Z8htMSrTVpU_"
      ],
      "toc_visible": true
    },
    "kernelspec": {
      "display_name": "Python 3",
      "language": "python",
      "name": "python3"
    }
  },
  "cells": [
    {
      "metadata": {
        "id": "YnqIW4cNVpU3",
        "colab_type": "text"
      },
      "cell_type": "markdown",
      "source": [
        "# Python para análisis de datos\n",
        "\n",
        "\n",
        "Para iniciar con python se recomienda instalar [ANACONDA](https://www.continuum.io/downloads) , en la version  3.x\n",
        "\n",
        "---\n",
        "\n",
        "\n",
        "**Nota** Despues deinstalado se puede cambiar de version siguiendo los  [pasos](http://conda.pydata.org/docs/py2or3.html) , [ayuda](http://stackoverflow.com/questions/30492623/using-both-python-2-x-and-python-3-x-in-ipython-notebook)\n",
        "\n",
        "1. verifiquemos que tenemos lo que necesitamos\n"
      ]
    },
    {
      "metadata": {
        "scrolled": true,
        "id": "MdeGSjuQVpU4",
        "colab_type": "code",
        "cellView": "both",
        "outputId": "62a1344a-517e-4671-9e5b-90781f5f2526",
        "colab": {
          "base_uri": "https://localhost:8080/",
          "height": 156
        }
      },
      "cell_type": "code",
      "source": [
        "#@title\n",
        "\n",
        "# Python version\n",
        "import sys\n",
        "print('Python: {}'.format(sys.version))\n",
        "\n",
        "import sklearn\n",
        "print('sklearn: {}'.format(sklearn.__version__))\n",
        "# scipy\n",
        "import scipy\n",
        "print('scipy: {}'.format(scipy.__version__))\n",
        "# numpy\n",
        "import numpy\n",
        "print('numpy: {}'.format(numpy.__version__))\n",
        "# matplotlib\n",
        "import matplotlib\n",
        "print('matplotlib: {}'.format(matplotlib.__version__))\n",
        "# pandas\n",
        "import pandas\n",
        "print('pandas: {}'.format(pandas.__version__))\n",
        "# scikit-learn\n",
        "import sklearn\n",
        "print('sklearn: {}'.format(sklearn.__version__))\n"
      ],
      "execution_count": 0,
      "outputs": [
        {
          "output_type": "stream",
          "text": [
            "Python: 3.6.7 (default, Oct 22 2018, 11:32:17) \n",
            "[GCC 8.2.0]\n",
            "sklearn: 0.20.2\n",
            "scipy: 1.1.0\n",
            "numpy: 1.14.6\n",
            "matplotlib: 3.0.2\n",
            "pandas: 0.22.0\n",
            "sklearn: 0.20.2\n"
          ],
          "name": "stdout"
        }
      ]
    },
    {
      "metadata": {
        "id": "Z8htMSrTVpU_",
        "colab_type": "text"
      },
      "cell_type": "markdown",
      "source": [
        "\n",
        "## Buscar ayuda\n",
        "Tenemos la opción de usar ? para ver la ayuda de una función, o usar tab para ver las funciones disponibles de un objeto\n",
        "\n",
        "Ejercicio: importar la biblioteca random y buscar ayuda sobre la función `random`\n",
        "\n"
      ]
    },
    {
      "metadata": {
        "id": "yNLm16ElVpU_",
        "colab_type": "code",
        "colab": {}
      },
      "cell_type": "code",
      "source": [
        "import random\n",
        "random?\n",
        "\n",
        "\n"
      ],
      "execution_count": 0,
      "outputs": []
    },
    {
      "metadata": {
        "id": "CQgoLVyCVpVC",
        "colab_type": "text"
      },
      "cell_type": "markdown",
      "source": [
        "# Python\n",
        "Python es un lenguaje de programación de alto nivel, interpretado, interactivo, orientado a objetos y de propósito general. Fue creado por Guido van Rossum durante 1985-1990. Al igual que Perl, el código fuente de Python también está disponible bajo la Licencia Pública General de GNU (GPL).\n",
        "\n",
        "basado en [Complete Python Bootcamp: Go from zero to hero in Python 3](https://www.udemy.com/complete-python-bootcamp/) y [Python - Tutorial](https://www.tutorialspoint.com/python/index.htm) (*warning: is python2*)\n",
        "\n",
        "- se considera la mejor práctica ([PEP8] (https://www.python.org/dev/peps/pep-0008/#function-and-variable-names)) que los nombres de las variables están en minúsculas con guiones bajos\n",
        "- Python utiliza * escritura dinámica *, lo que significa que puede reasignar variables a diferentes tipos de datos.\n",
        "- Python soporta cuatro tipos numéricos diferentes\n",
        "\n",
        "  - int (enteros con signo) `5`\n",
        "  - long (enteros largos, también se pueden representar en octal y hexadecimal) `5L`,` 0x80`\n",
        "  - float (valores reales de punto flotante) `0.0`,` 0.5e52`\n",
        "  - complejo (números complejos) `14.5j`\n",
        "- Se puede pensar en las listas de la versión más general de una secuencia en Python. A diferencia de las cadenas, son mutables, lo que significa que los elementos dentro de una lista se pueden cambiar.\n",
        "- Lo importante de una lista es que los elementos de una lista no tienen que ser del mismo tipo.\n",
        "- Una gran característica de las estructuras de datos de Python es que admiten el anidamiento. Esto significa que podemos tener estructuras de datos dentro de estructuras de datos\n",
        "- Python tiene una característica avanzada llamada lista de comprensión. Permiten la construcción rápida de listas. Para entender completamente las comprensiones de listas, necesitamos entender los bucles.\n",
        "- Las claves son únicas dentro de un diccionario, mientras que los valores pueden no serlo.\n",
        "- Los valores de un diccionario pueden ser de cualquier tipo, pero las claves deben ser de un tipo de datos inmutables como cadenas, números o tuplas.\n",
        "- En Python, las tuplas son muy similares a las listas, sin embargo, a diferencia de las listas, tienen un significado inmutable que no se pueden cambiar. Usaría tuplas para presentar cosas que no deberían cambiarse, como los días de la semana o las fechas en un calendario. ```t = (1,2,3)```\n"
      ]
    },
    {
      "metadata": {
        "id": "HOh33NVqWRhO",
        "colab_type": "text"
      },
      "cell_type": "markdown",
      "source": [
        "\n",
        "## Sin ejecutar el codigo, que retorna cada item? \n",
        "\n",
        "1. **numbers** \n",
        "\n",
        "```\n",
        "3/2\n",
        "3/float(2)\n",
        "3%2\n",
        "3.00//2.00\n",
        "2**3\n",
        "4**0.5\n",
        "import math\n",
        "math.sqrt(4)\n",
        "2 + 10 * 10 + 3\n",
        "(2+10) * (10+3)\n",
        "```\n",
        "2. **Variables**\n",
        "\n",
        "```\n",
        "a = 10\n",
        "a =a + 10\n",
        "a += 10\n",
        "b = c = a\n",
        "a,b,c = 1,2,\"john\"\n",
        "my_dogs = 2\n",
        "my_dogs = ['Sammy', 'Frankie']\n",
        "del my_dogs\n",
        "\n",
        "```\n",
        "3. ** string**\n",
        "\n",
        "```\n",
        "str = 'Hello World!'\n",
        "\n",
        "print (str)          \n",
        "print (str[0])       \n",
        "print (str[2:5])     \n",
        "print (str[2:])      \n",
        "print (str * 2)      \n",
        "print (str + \"TEST\")\n",
        "str.upper()\n",
        "str.split()\n",
        "'Carlos: {}'.format(str)\n",
        "print(\" %s ,  %s\" %(str,\"I'm Carlos\"))\n",
        "\n",
        "print('I wrote %s programs today.' %3.75)\n",
        "print('I wrote %d programs today.' %3.75)\n",
        "print('I wrote %5.2f programs today.' %3.75)\n",
        "print('First: %s, Second: %5.2f, Third: %r' %('hi!',3.1415,'bye!'))\n",
        "print('The {2} {1} {0}'.format('fox','brown','quick'))\n",
        "print('First Object: {a}, Second Object: {b}, Third Object: {c}'.format(a=1,b='Two',c=12.3))\n",
        "\n",
        "print('{0:8} | {1:9}'.format('Fruit', 'Quantity'))\n",
        "print('{0:8} | {1:9}'.format('Apples', 3.))\n",
        "print('{0:8} | {1:9}'.format('Oranges', 10))\n",
        "\n",
        "```\n",
        "\n",
        "4. **Array list**\n",
        "\n",
        "```\n",
        "my_list = [1,2,3]\n",
        "my_list = ['A string',23,100.232,'o']\n",
        "my_list + ['new item']\n",
        "my_list = my_list +['new item']\n",
        "my_list.pop(0)\n",
        "my_list.reverse()\n",
        "my_list.sort()\n",
        "my_list * 2\n",
        "my_list=[]\n",
        "my_list=array()\n",
        "\n",
        "num_list = range(1, 101)\n",
        "print(num_list[49])\n",
        "type(num_list)\n",
        "len(num_list)\n",
        "\n",
        "new_list = [0, 1, 2, 3, 4, 5, 6]\n",
        "new_list[2] = 2001;\n",
        "new_list[2:5]\n",
        "new_list[:3]\n",
        "new_list[-2:]\n",
        "\n",
        "list_1 = [1,2]\n",
        "list_2 = [3, 4]\n",
        "list_1+list_2\n",
        "list_1.append(list_2)\n",
        "[num*2 for num in list_1]\n",
        "\n",
        "lst_1=[1,2,3]\n",
        "lst_2=[4,5,6]\n",
        "lst_3=[7,8,9]\n",
        "matrix = [lst_1,lst_2,lst_3]\n",
        "matrix[0][0]=8\n",
        "print(matrix)\n",
        "\n",
        "```\n",
        "4.  **Dictionary**\n",
        "\n",
        "```\n",
        "d = {'a':10, 'b':20, 'c':30}\n",
        "d['a']\n",
        "d['b']=40\n",
        "d.clear()\n",
        "dict.values()\n",
        "dict.keys()\n",
        "dict.items()\n",
        "print(d)\n",
        "\n",
        "dict = {'Name': 'Zara', 'Age': 7, 'Name': 'Manni'}\n",
        "print(dict['Name'])\n",
        "dict2['Name']='Carlos'\n",
        "dict.update(dict2)\n",
        "\n",
        "\n",
        "locations = {'Sinan': ['Baltimore', 'MD'], 'Brandon': ['Arlington', 'VA']}\n",
        "print(locations['Brandon'][1])\n",
        "\n",
        "from numpy import random\n",
        "data = {'a'+str(i) : random.randn() for i in range(7)}\n",
        "print(data['a1'])\n",
        "data\n",
        "```\n",
        "\n",
        "5. ** functions**\n",
        "\n",
        "```\n",
        "def calc(a, b):\n",
        "    return a + b\n",
        "print(calc(2,3))\n",
        "```\n",
        "\n",
        "Para probar cualquiera de los códigos anteriores, simplemente copie el bloque de código en la celda de python a continuación."
      ]
    },
    {
      "metadata": {
        "id": "jKLkNF0IVpVD",
        "colab_type": "code",
        "outputId": "4565bcad-bd0e-4089-db33-2a8c44e6a7da",
        "colab": {
          "base_uri": "https://localhost:8080/",
          "height": 34
        }
      },
      "cell_type": "code",
      "source": [
        "3/2"
      ],
      "execution_count": 0,
      "outputs": [
        {
          "output_type": "execute_result",
          "data": {
            "text/plain": [
              "1.5"
            ]
          },
          "metadata": {
            "tags": []
          },
          "execution_count": 9
        }
      ]
    },
    {
      "metadata": {
        "id": "dwJUVm0cVpVj",
        "colab_type": "text"
      },
      "cell_type": "markdown",
      "source": [
        "![numpy](https://upload.wikimedia.org/wikipedia/commons/thumb/1/1a/NumPy_logo.svg/640px-NumPy_logo.svg.png)\n",
        "\n",
        "\n",
        "## Arrays en Numpy\n",
        "- ndarray.ndim –> Proporciona el número de dimensiones de nuestro array. El array identidad es un array cuadrado con una diagonal principal unitaria.\n",
        "- ndarray.shape –> Devuelve la dimensión del array, es decir, una tupla de enteros indicando el tamaño del array en cada dimensión. Para una matriz de n filas y m columnas obtendremos (n,m).\n",
        "- ndarray.size –> Es el número total de elementos del array.\n",
        "- ndarray.dtype –> Es un objeto que describe el tipo de elementos del array.\n",
        "- ndarray.itemsize –> devuelve el tamaño del array en bytes.\n",
        "- ndarray.data –> El buffer contiene los elementos actuales del array.\n",
        "\n",
        "## Creación de Arrays\n",
        "- identity(n,dtype). Devuelve la matriz identidad, es decir, uma matriz cuadrada nula excepto en su diagonal principal que es unitaria. n es el número de filas (y columnas) que tendrá la matriz y dtype es el tipo de dato. Este argumento es opcional. Si no se establece, se toma por defecto como flotante.\n",
        "- ones(shape,dtype). Crea un array de unos compuesto de shape elementos.\n",
        "- zeros(shape, dtype). Crea un array de ceros compuesto de “shape” elementos”.\n",
        "- empty(shape, dtype). Crea un array de ceros compuesto de “shape” elementos” sin entradas.\n",
        "- eye(N, M, k, dtype). Crea un array bidimensional con unos en la diagonal k y ceros en el resto. Es similar a identity. Todos los argumentos son opcionales. N es el número de filas, M el de columnas y k es el índice de la diagonal. Cuando k=0 nos referimos a la diagonal principal y por tanto eye es similar a identity.\n",
        "- arange([start,]stop[,step,],dtype=None). Crea un array con valores distanciados step entre el valor inicial star y el valor final stop. Si no se establece step python establecerá uno por defecto.\n",
        "- linspace(start,stop,num,endpoint=True,retstep=False). Crea un array con valor inicial start, valor final stop y num elementos.\n",
        "- meshgrid(x,y). Genera una matriz de coordenadas a partir de dos los arrays x, y.\n",
        "\n",
        "## Funciones\n",
        "\n",
        "El módulo numpy contiene todas las operaciones usuales entre arrays como las matemáticas (suma, resta, multiplicación, etc), las lógicas (and, or, xor, etc), binarias, ... \n",
        "[Operaciones Numpy](https://drive.google.com/file/d/17wZqpCvckCb8Ous3HAaRqPu33rJKtTeB/view?usp=sharing)\n",
        "\n",
        "\n",
        "[buen tutorial](http://pendientedemigracion.ucm.es/info/aocg/python/modulos_cientificos/numpy/index.html)\n",
        "\n",
        "Lo más fácil y sencillo es en caso de duda consultar la documentación oficial. [documentacion](https://docs.scipy.org/doc/numpy/reference/index.html#reference)\n",
        "\n",
        "\n"
      ]
    },
    {
      "metadata": {
        "id": "1ZziqZo1VpVl",
        "colab_type": "code",
        "colab": {}
      },
      "cell_type": "code",
      "source": [
        "import numpy as np # Importamos numpy como el alias np"
      ],
      "execution_count": 0,
      "outputs": []
    },
    {
      "metadata": {
        "id": "cmhYnwFQVpVn",
        "colab_type": "code",
        "outputId": "e0c5281f-1e9f-4317-f9dd-f75170511efe",
        "colab": {
          "base_uri": "https://localhost:8080/",
          "height": 625
        }
      },
      "cell_type": "code",
      "source": [
        "\n",
        "# tipo de datos\n",
        "arr1 = np.array([1, 2, 3], dtype=np.float64)\n",
        "arr2 = np.array([1, 2, 3], dtype=np.int32)\n",
        "#funciones basicas\n",
        "miArray = np.arange(10) # Creamos un array de 0 a 9 separados de uno en uno\n",
        "print (miArray) # Presentamos en pantalla el array creado\n",
        "print (type(miArray))   #Comprobamos que es un ndarray\n",
        "print (miArray.ndim )   # Consultamos el número de dimensiones\n",
        "print (miArray.shape )  # Consultamos la dimensión\n",
        "print (miArray.size )  # Consultamos la dimensión\n",
        "print (miArray.dtype )  # Consultamos el tipo de elementos del array\n",
        "print (miArray.itemsize )  # tamaño en bytes\n",
        "print (miArray.data )  # Consultamos el buffer de memoria.\n",
        "\n",
        "# array bidimensionales\n",
        "arr2d = np.array([[1, 2, 3], [4, 5, 6], [7, 8, 9]])\n",
        "\n",
        "print(arr2d[2])\n",
        "\n",
        "print(arr2d[0][2])\n",
        "#arr2d[0,2]\n",
        "\n",
        "#grupo de elementos\n",
        "print((arr2d[:,1]))\n",
        "\n",
        "# acesso con operaciones\n",
        "print(arr2d[arr2d>4])\n",
        "\n",
        "#fancy indexing\n",
        "arr = np.empty((8, 4))\n",
        "for i in range(8):\n",
        "    arr[i] = i\n",
        "print(arr)\n",
        "\n",
        "#seleccionar columnas en desorden\n",
        "print (arr[[4, 3, 0, 6]])\n",
        "#Using negative indices select rows from the end\n",
        "print(arr[[-3, -5, -7]])\n",
        "\n",
        "#reorganizar vectores\n",
        "arr = np.arange(32).reshape((8, 4))\n",
        "print(arr)"
      ],
      "execution_count": 0,
      "outputs": [
        {
          "output_type": "stream",
          "text": [
            "[0 1 2 3 4 5 6 7 8 9]\n",
            "<class 'numpy.ndarray'>\n",
            "1\n",
            "(10,)\n",
            "10\n",
            "int64\n",
            "8\n",
            "<memory at 0x7f85c5b27048>\n",
            "[7 8 9]\n",
            "3\n",
            "[2 5 8]\n",
            "[5 6 7 8 9]\n",
            "[[0. 0. 0. 0.]\n",
            " [1. 1. 1. 1.]\n",
            " [2. 2. 2. 2.]\n",
            " [3. 3. 3. 3.]\n",
            " [4. 4. 4. 4.]\n",
            " [5. 5. 5. 5.]\n",
            " [6. 6. 6. 6.]\n",
            " [7. 7. 7. 7.]]\n",
            "[[4. 4. 4. 4.]\n",
            " [3. 3. 3. 3.]\n",
            " [0. 0. 0. 0.]\n",
            " [6. 6. 6. 6.]]\n",
            "[[5. 5. 5. 5.]\n",
            " [3. 3. 3. 3.]\n",
            " [1. 1. 1. 1.]]\n",
            "[[ 0  1  2  3]\n",
            " [ 4  5  6  7]\n",
            " [ 8  9 10 11]\n",
            " [12 13 14 15]\n",
            " [16 17 18 19]\n",
            " [20 21 22 23]\n",
            " [24 25 26 27]\n",
            " [28 29 30 31]]\n"
          ],
          "name": "stdout"
        }
      ]
    },
    {
      "metadata": {
        "collapsed": true,
        "id": "XpDZB-nQVpVp",
        "colab_type": "text"
      },
      "cell_type": "markdown",
      "source": [
        "## SQLite\n",
        "\n",
        "Cuando abre un CSV en Python y lo asigna a un nombre de variable, está usando la memoria de su computadora para guardar esa variable. Acceder a los datos desde una base de datos como SQL no solo es más eficiente, sino que también le permite subcontratar e importar solo las partes de los datos que necesita.\n",
        "\n",
        "\n",
        "Cada una de las bases de datos tienen sus librerias para python, a manera de ejemplo veamos SQLite.\n",
        "\n",
        "- Revisar la base de datos en linea [sqliteonline](https://sqliteonline.com/)\n",
        "\n",
        "\n",
        "- **Ejercicio** escribamos tres query (enunciado en [Markdown](https://github.com/adam-p/markdown-here/wiki/Markdown-Cheatsheet) y luego el codigo sql respectivo.\n",
        "\n",
        "los datos son   la Guía de valor para vehículos en Colombia suministrada por fasecolda, que se puede descargar de [Kaggle](https://www.kaggle.com/panchicore/vehicles-colombia-fasecolda/version/1)\n",
        "\n",
        "\n",
        "[Link de descarga](https://drive.google.com/file/d/1wVSVbq1cJ68dU-0D8c4tPh83Hjy8azPM/view?usp=sharing)\n",
        "\n",
        "\n",
        "tutorial [sqllite](http://www.datacarpentry.org/python-ecology-lesson/08-working-with-sql) \n"
      ]
    },
    {
      "metadata": {
        "id": "VjzXrWwjXG-Z",
        "colab_type": "code",
        "colab": {}
      },
      "cell_type": "code",
      "source": [
        "# Cargamos el archivo (solo en collaborative) en caso contrario colocar el archivo en la raiz\n",
        "from google.colab import files\n",
        "files.upload()"
      ],
      "execution_count": 0,
      "outputs": []
    },
    {
      "metadata": {
        "id": "9KwWjMlhVpVp",
        "colab_type": "code",
        "outputId": "260705cb-36f0-4048-bd9f-ccaf6b6357c7",
        "colab": {
          "base_uri": "https://localhost:8080/",
          "height": 785
        }
      },
      "cell_type": "code",
      "source": [
        "\n",
        "import sqlite3\n",
        "\n",
        "# Create a SQL connection to our SQLite database\n",
        "con = sqlite3.connect(\"guia_fasecolda.sqlite\")\n",
        "\n",
        "cur = con.cursor()\n",
        "\n",
        "# the result of a \"cursor.execute\" can be iterated over by row\n",
        "\n",
        "for row in cur.execute('SELECT * FROM sqlite_master WHERE type = \"table\";'):\n",
        "   print(row)\n",
        "    \n",
        "\n",
        "#AQUI Realize sus consultas sql de los datos\n",
        "\n",
        "print('## CONSULTA N.1 VEHICULO POR MARCA Y REFERENCIA - SEAT')\n",
        "print('```\\nSELECT Marca ,Referencia1 ,Referencia2 ,Referencia3 ,Peso ,TipoCaja ,Cilindraje FROM carros WHERE Marca = \"SEAT\" and Referencia1 like \"TOLEDO%\" order by 1;\\n```')\n",
        "\n",
        "for row in cur.execute('SELECT Marca ,Referencia1 ,Referencia2 ,Referencia3 ,Peso ,TipoCaja ,Cilindraje FROM carros WHERE Marca = \"SEAT\" and Referencia1 like \"TOLEDO%\" order by 1;'):\n",
        "    print(row)\n",
        "\n",
        "print('\\n')    \n",
        "print('## CONSULTA N.2 TOP 10 - VEHICULOS CON MAYOR CANTIDAD DE REFERENCIAS')\n",
        "print('```\\nSELECT Clase ,Marca ,count(*) as cantidad FROM carros group by Clase ,Marca order by cantidad desc,1 limit 10;\\n```')\n",
        "\n",
        "for row in cur.execute('SELECT Clase ,Marca ,count(*) as cantidad FROM carros group by Clase ,Marca order by cantidad desc,1 limit 10;'):\n",
        "    print(row)\n",
        "\n",
        "print('\\n')    \n",
        "print('## CONSULTA N.3 VALOR DE 2018 ENTRE LOS 45 Y 48 MILLONES PARA VOLSKWAGEN')\n",
        "print('```\\nSELECT Marca ,Referencia1 ,Referencia2 ,Referencia3 ,Peso ,TipoCaja ,Cilindraje ,\"2018\" FROM carros WHERE Clase = \"AUTOMOVIL\" and Marca=\"VOLKSWAGEN\" and \"2018\" between 45000 and 48000 order by 2,3,\"2018\" desc;\\n```')\n",
        "\n",
        "for row in cur.execute('SELECT Marca ,Referencia1 ,Referencia2 ,Referencia3 ,Peso ,TipoCaja ,Cilindraje ,\"2018\" FROM carros WHERE Clase = \"AUTOMOVIL\" and Marca=\"VOLKSWAGEN\" and \"2018\" between 45000 and 48000 order by 2,3,\"2018\" desc;'):\n",
        "    print(row)\n",
        "\n",
        "    \n",
        "#Be sure to close the connection.\n",
        "con.close()\n"
      ],
      "execution_count": 0,
      "outputs": [
        {
          "output_type": "stream",
          "text": [
            "('table', 'carros', 'carros', 2, 'CREATE TABLE \"carros\" (\\n\"Novedad\" TEXT,\\n  \"Marca\" TEXT,\\n  \"Clase\" TEXT,\\n  \"Codigo\" INTEGER,\\n  \"HomologoCodigo\" REAL,\\n  \"Referencia1\" TEXT,\\n  \"Referencia2\" TEXT,\\n  \"Referencia3\" TEXT,\\n  \"Peso\" INTEGER,\\n  \"IdServicio\" INTEGER,\\n  \"Servicio\" TEXT,\\n  \"1970\" INTEGER,\\n  \"1971\" INTEGER,\\n  \"1972\" INTEGER,\\n  \"1973\" INTEGER,\\n  \"1974\" INTEGER,\\n  \"1975\" INTEGER,\\n  \"1976\" INTEGER,\\n  \"1977\" INTEGER,\\n  \"1978\" INTEGER,\\n  \"1979\" INTEGER,\\n  \"1980\" INTEGER,\\n  \"1981\" INTEGER,\\n  \"1982\" INTEGER,\\n  \"1983\" INTEGER,\\n  \"1984\" INTEGER,\\n  \"1985\" INTEGER,\\n  \"1986\" INTEGER,\\n  \"1987\" INTEGER,\\n  \"1988\" INTEGER,\\n  \"1989\" INTEGER,\\n  \"1990\" INTEGER,\\n  \"1991\" INTEGER,\\n  \"1992\" INTEGER,\\n  \"1993\" INTEGER,\\n  \"1994\" INTEGER,\\n  \"1995\" INTEGER,\\n  \"1996\" INTEGER,\\n  \"1997\" INTEGER,\\n  \"1998\" INTEGER,\\n  \"1999\" INTEGER,\\n  \"2000\" INTEGER,\\n  \"2001\" INTEGER,\\n  \"2002\" INTEGER,\\n  \"2003\" INTEGER,\\n  \"2004\" INTEGER,\\n  \"2005\" INTEGER,\\n  \"2006\" INTEGER,\\n  \"2007\" INTEGER,\\n  \"2008\" INTEGER,\\n  \"2009\" INTEGER,\\n  \"2010\" INTEGER,\\n  \"2011\" INTEGER,\\n  \"2012\" INTEGER,\\n  \"2013\" INTEGER,\\n  \"2014\" INTEGER,\\n  \"2015\" INTEGER,\\n  \"2016\" INTEGER,\\n  \"2017\" INTEGER,\\n  \"2018\" INTEGER,\\n  \"Bcpp\" INTEGER,\\n  \"Importado\" INTEGER,\\n  \"Potencia\" INTEGER,\\n  \"TipoCaja\" TEXT,\\n  \"Cilindraje\" INTEGER,\\n  \"Nacionalidad\" TEXT,\\n  \"CapacidadPasajeros\" INTEGER,\\n  \"CapacidadCarga\" INTEGER,\\n  \"Puertas\" INTEGER,\\n  \"AireAcondicionado\" INTEGER,\\n  \"Ejes\" INTEGER,\\n  \"Estado\" TEXT,\\n  \"Combustible\" TEXT,\\n  \"Transmision\" TEXT,\\n  \"Um\" INTEGER,\\n  \"PesoCategoria\" INTEGER\\n)')\n",
            "## CONSULTA N.1 VEHICULO POR MARCA Y REFERENCIA - SEAT\n",
            "```\n",
            "SELECT Marca ,Referencia1 ,Referencia2 ,Referencia3 ,Peso ,TipoCaja ,Cilindraje FROM carros WHERE Marca = \"SEAT\" and Referencia1 like \"TOLEDO%\" order by 1;\n",
            "```\n",
            "('SEAT', 'TOLEDO', 'GLX', 'MT 2000CC', 1080, 'MT', 2000)\n",
            "('SEAT', 'TOLEDO', 'MAGNUS', 'MT 2000CC', 1080, 'MT', 2000)\n",
            "('SEAT', 'TOLEDO [4]', 'REFERENCE', 'MT 1600CC 5P', 1085, 'MT', 1598)\n",
            "('SEAT', 'TOLEDO [4]', 'STYLE', 'TP 1600CC 5P', 1230, 'TP', 1598)\n",
            "\n",
            "\n",
            "## CONSULTA N.2 TOP 10 - VEHICULOS CON MAYOR CANTIDAD DE REFERENCIAS\n",
            "```\n",
            "SELECT Clase ,Marca ,count(*) as cantidad FROM carros group by Clase ,Marca order by cantidad desc,1 limit 10;\n",
            "```\n",
            "('AUTOMOVIL', 'BMW', 343)\n",
            "('AUTOMOVIL', 'MERCEDES BENZ', 279)\n",
            "('AUTOMOVIL', 'RENAULT', 272)\n",
            "('AUTOMOVIL', 'CHEVROLET', 253)\n",
            "('AUTOMOVIL', 'VOLKSWAGEN', 253)\n",
            "('AUTOMOVIL', 'HYUNDAI', 252)\n",
            "('AUTOMOVIL', 'KIA', 216)\n",
            "('AUTOMOVIL', 'MAZDA', 207)\n",
            "('AUTOMOVIL', 'AUDI', 179)\n",
            "('AUTOMOVIL', 'PEUGEOT', 176)\n",
            "\n",
            "\n",
            "## CONSULTA N.3 VALOR DE 2018 ENTRE LOS 45 Y 48 MILLONES PARA VOLSKWAGEN\n",
            "```\n",
            "SELECT Marca ,Referencia1 ,Referencia2 ,Referencia3 ,Peso ,TipoCaja ,Cilindraje ,\"2018\" FROM carros WHERE Clase = \"AUTOMOVIL\" and Marca=\"VOLKSWAGEN\" and \"2018\" between 45000 and 48000 order by 2,3,\"2018\" desc;\n",
            "```\n",
            "('VOLKSWAGEN', 'CROSSFOX [1]', '1.6L', 'MT 1600CC 5P FE', 1129, 'MT', 1598, 45000)\n",
            "('VOLKSWAGEN', 'GOL [6]', 'CL CONNECT', 'MT 1600CC 5P AA VED 2AB ABS', 961, 'MT', 1598, 45500)\n",
            "('VOLKSWAGEN', 'GOL [6]', 'CL CONNECT [VOYAGE]', 'MT 1600CC ABS 4P AA', 985, 'MT', 1598, 46500)\n",
            "('VOLKSWAGEN', 'GOL [6]', 'COMFORTLINE', 'MT 1600CC 5P AA VED 2AB ABS', 961, 'MT', 1598, 45500)\n",
            "('VOLKSWAGEN', 'GOL [6]', 'COMFORTLINE I-MOTION', 'TP 1600CC  5P ASG', 961, 'TP', 1598, 45800)\n",
            "('VOLKSWAGEN', 'GOL [6]', 'COMFORTLINE [VOYAGE]', 'MT 1600CC 4P AA VED 2AB ABS', 985, 'MT', 1598, 46500)\n",
            "('VOLKSWAGEN', 'GOL [7]', 'HIGHLINE [VOYAGE]', 'MT 1600CC R16', 1001, 'MT', 1598, 46000)\n",
            "('VOLKSWAGEN', 'GOLF [4]', 'COMFORTLINE', 'AT 2000CC 5P', 1261, 'AT', 2000, 46900)\n",
            "('VOLKSWAGEN', 'JETTA [5]', 'EUROPA', 'TP 2000CC', 1307, 'TP', 1984, 46500)\n",
            "('VOLKSWAGEN', 'JETTA [5]', 'EUROPA', 'MT 2000CC', 1307, 'MT', 1984, 45000)\n",
            "('VOLKSWAGEN', 'JETTA [5]', 'TRENDLINE', 'MT 2000CC FE', 1307, 'MT', 1984, 46800)\n",
            "('VOLKSWAGEN', 'SURAN CROSS', '1.6L', 'MT 1600CC 5P 2AB ABS', 1182, 'MT', 1598, 47600)\n",
            "('VOLKSWAGEN', 'VENTO [2]', 'COMFORTLINE', 'MT 1600CC 2AB ABS', 1188, 'MT', 1598, 47000)\n"
          ],
          "name": "stdout"
        }
      ]
    },
    {
      "metadata": {
        "id": "r0aBCTbvZE_7",
        "colab_type": "text"
      },
      "cell_type": "markdown",
      "source": [
        "## Pandas\n",
        "\n",
        "![Panda Logo](https://pandas.pydata.org/_static/pandas_logo.png)\n",
        "\n",
        "Documentación de [Panda](http://pandas.pydata.org/pandas-docs/stable/10min.html)\n",
        "\n",
        "pandas es una librería para el análisis de datos que cuenta con las estructuras de datos que necesitamos para limpiar los datos en bruto y que sean aptos para el análisis (por ejemplo, tablas). Es importante señalar aquí que, dado que pandas lleva a cabo tareas importantes, como alinear datos para su comparación, fusionar conjuntos de datos, gestión de datos perdidos, etc., se ha convertido en una librería muy importante para procesar datos a alto nivel en Python (es decir, estadísticas ). Pandas fue diseñada originalmente para gestionar datos financieros, y como alternativo al uso de hojas de cálculo (es decir, Microsoft Excel).\n",
        "\n",
        "La estructura de datos básica de pandas se denomina DataFrame, que es una colección ordenada de columnas con nombres y tipos, parecido a una tabla de base de datos, donde una sola fila representa un único caso (ejemplo) y las columnas representan atributos particulares. Cabe señalar aquí que elementos en distintas columnas pueden ser de diferentes tipos.\n",
        "\n",
        "- **Series**: Son arrays unidimensionales con indexación (arrays con índice o etiquetados), similar a los diccionarios. Pueden generarse a partir de diccionarios o de listas.\n",
        "- **DataFrame**: Son estructuras de datos similares a las tablas de bases de datos relacionales como SQL.\n",
        "- **Panel, Panel4D y PanelND**: Estas estructuras de datos permiten trabajar con más de dos dimensiones. Dado que es algo complejo y poco utilizado trabajar con arrays de más de dos dimensiones no trataremos los paneles en estos tutoriales de introdución a Pandas.\n",
        "\n",
        "Sobre este tipo de estructura de datos se aplican las funciones\n"
      ]
    },
    {
      "metadata": {
        "scrolled": true,
        "id": "YoLiQYnXVpVt",
        "colab_type": "code",
        "colab": {}
      },
      "cell_type": "code",
      "source": [
        "import pandas as pd\n",
        "\n",
        "dates = pd.date_range('20130101', periods=6)\n",
        "df = pd.DataFrame(np.random.randn(6,4), index=dates, columns=list('ABCD'))\n",
        "\n",
        "\n",
        "#valores iniciales de la lista\n",
        "df.head()\n",
        "#valores finales de la lista\n",
        "df.tail(3)\n",
        "\n",
        "#aceder a los datos como un arreglo numpy\n",
        "df.index\n",
        "df.columns\n",
        "df.values\n",
        "\n",
        "# acediendo ciertos datos\n",
        "df['A']\n",
        "df[1:3]\n",
        "df[df.A > 0]\n",
        "\n",
        "df.sort_values(by='B')\n",
        "\n",
        "# toda la estadistica descriptiva\n",
        "df.mean()\n",
        "df.describe()\n",
        "\n"
      ],
      "execution_count": 0,
      "outputs": []
    },
    {
      "metadata": {
        "id": "vpoVY9CuVpV1",
        "colab_type": "text"
      },
      "cell_type": "markdown",
      "source": [
        "## Comprender los datos con estadísticas descriptivas\n",
        "Una vez que haya cargado sus datos en Python, debe poder entenderlos. Cuanto mejor pueda comprender sus datos, mejores y más precisos serán los modelos que puede construir.\n",
        "El primer paso para comprender sus datos es utilizar estadísticas descriptivas. \n",
        "\n",
        "**Ejercicio**\n",
        "\n",
        "- Realize un query sobre los datos que desea analizar con datos de precios de varios años\n",
        "- Revise la distribución de sus datos con la función [describe()](http://pandas.pydata.org/pandas-docs/stable/generated/pandas.DataFrame.describe.html#pandas.DataFrame.describe).\n",
        "- Calcule la correlación por pares entre sus variables usando la función [corr ()](http://pandas.pydata.org/pandas-docs/stable/generated/pandas.DataFrame.corr.html#pandas.DataFrame.corr) .\n",
        "\n",
        "[documentación](http://pandas.pydata.org/pandas-docs/stable/generated/pandas.DataFrame.html)\n",
        "\n",
        "\n",
        "\n"
      ]
    },
    {
      "metadata": {
        "id": "E8nbRMhzVpVw",
        "colab_type": "code",
        "outputId": "3fa4ecc5-ba73-4a7e-be62-46619735907d",
        "colab": {
          "base_uri": "https://localhost:8080/",
          "height": 470
        }
      },
      "cell_type": "code",
      "source": [
        "import pandas as pd\n",
        "import sqlite3\n",
        "from IPython.display import display, HTML\n",
        "\n",
        "# Read sqlite query results into a pandas DataFrame\n",
        "con = sqlite3.connect(\"guia_fasecolda.sqlite\")\n",
        "\n",
        "#ESCRIBE LA CONSULTA DE LO QUE DESEAS ANALIZAR\n",
        "df = pd.read_sql_query('SELECT \"2015\",\"2016\",\"2017\",\"2018\" FROM carros WHERE Marca = \"VOLKSWAGEN\" and Referencia1 like \"JETTA%\" and TipoCaja=\"MT\" ;',con)\n",
        "\n",
        "\n",
        "print(\"Total de memoria ram requerida \",df.memory_usage().sum())\n",
        "\n",
        "#estadistica descriptiva\n",
        "display(HTML(df.describe().to_html()))\n",
        "#correlación entre las columnas\n",
        "display(HTML(df.corr().to_html()))\n",
        "\n",
        "con.close()\n",
        "\n"
      ],
      "execution_count": 0,
      "outputs": [
        {
          "output_type": "stream",
          "text": [
            "Total de memoria ram requerida  848\n"
          ],
          "name": "stdout"
        },
        {
          "output_type": "display_data",
          "data": {
            "text/html": [
              "<table border=\"1\" class=\"dataframe\">\n",
              "  <thead>\n",
              "    <tr style=\"text-align: right;\">\n",
              "      <th></th>\n",
              "      <th>2015</th>\n",
              "      <th>2016</th>\n",
              "      <th>2017</th>\n",
              "      <th>2018</th>\n",
              "    </tr>\n",
              "  </thead>\n",
              "  <tbody>\n",
              "    <tr>\n",
              "      <th>count</th>\n",
              "      <td>24.000000</td>\n",
              "      <td>24.000000</td>\n",
              "      <td>24.000000</td>\n",
              "      <td>24.00000</td>\n",
              "    </tr>\n",
              "    <tr>\n",
              "      <th>mean</th>\n",
              "      <td>7516.666667</td>\n",
              "      <td>4400.000000</td>\n",
              "      <td>7275.000000</td>\n",
              "      <td>51175.00000</td>\n",
              "    </tr>\n",
              "    <tr>\n",
              "      <th>std</th>\n",
              "      <td>17262.668106</td>\n",
              "      <td>14931.524865</td>\n",
              "      <td>19686.504978</td>\n",
              "      <td>10714.60807</td>\n",
              "    </tr>\n",
              "    <tr>\n",
              "      <th>min</th>\n",
              "      <td>0.000000</td>\n",
              "      <td>0.000000</td>\n",
              "      <td>0.000000</td>\n",
              "      <td>27500.00000</td>\n",
              "    </tr>\n",
              "    <tr>\n",
              "      <th>25%</th>\n",
              "      <td>0.000000</td>\n",
              "      <td>0.000000</td>\n",
              "      <td>0.000000</td>\n",
              "      <td>48000.00000</td>\n",
              "    </tr>\n",
              "    <tr>\n",
              "      <th>50%</th>\n",
              "      <td>0.000000</td>\n",
              "      <td>0.000000</td>\n",
              "      <td>0.000000</td>\n",
              "      <td>50250.00000</td>\n",
              "    </tr>\n",
              "    <tr>\n",
              "      <th>75%</th>\n",
              "      <td>0.000000</td>\n",
              "      <td>0.000000</td>\n",
              "      <td>0.000000</td>\n",
              "      <td>58075.00000</td>\n",
              "    </tr>\n",
              "    <tr>\n",
              "      <th>max</th>\n",
              "      <td>49800.000000</td>\n",
              "      <td>55700.000000</td>\n",
              "      <td>61900.000000</td>\n",
              "      <td>67900.00000</td>\n",
              "    </tr>\n",
              "  </tbody>\n",
              "</table>"
            ],
            "text/plain": [
              "<IPython.core.display.HTML object>"
            ]
          },
          "metadata": {
            "tags": []
          }
        },
        {
          "output_type": "display_data",
          "data": {
            "text/html": [
              "<table border=\"1\" class=\"dataframe\">\n",
              "  <thead>\n",
              "    <tr style=\"text-align: right;\">\n",
              "      <th></th>\n",
              "      <th>2015</th>\n",
              "      <th>2016</th>\n",
              "      <th>2017</th>\n",
              "      <th>2018</th>\n",
              "    </tr>\n",
              "  </thead>\n",
              "  <tbody>\n",
              "    <tr>\n",
              "      <th>2015</th>\n",
              "      <td>1.000000</td>\n",
              "      <td>-0.133890</td>\n",
              "      <td>-0.167906</td>\n",
              "      <td>-0.071312</td>\n",
              "    </tr>\n",
              "    <tr>\n",
              "      <th>2016</th>\n",
              "      <td>-0.133890</td>\n",
              "      <td>1.000000</td>\n",
              "      <td>0.805233</td>\n",
              "      <td>0.386345</td>\n",
              "    </tr>\n",
              "    <tr>\n",
              "      <th>2017</th>\n",
              "      <td>-0.167906</td>\n",
              "      <td>0.805233</td>\n",
              "      <td>1.000000</td>\n",
              "      <td>0.488810</td>\n",
              "    </tr>\n",
              "    <tr>\n",
              "      <th>2018</th>\n",
              "      <td>-0.071312</td>\n",
              "      <td>0.386345</td>\n",
              "      <td>0.488810</td>\n",
              "      <td>1.000000</td>\n",
              "    </tr>\n",
              "  </tbody>\n",
              "</table>"
            ],
            "text/plain": [
              "<IPython.core.display.HTML object>"
            ]
          },
          "metadata": {
            "tags": []
          }
        }
      ]
    },
    {
      "metadata": {
        "id": "VzyyYTaRVpVy",
        "colab_type": "text"
      },
      "cell_type": "markdown",
      "source": [
        "\n",
        "\n",
        "## Comprender los datos con visualización\n",
        "\n",
        "Debes dedicar tiempo a comprender mejor tus datos. Una segunda forma de mejorar su comprensión de sus datos es mediante el uso de técnicas de visualización de datos . Usar la representación en Python para comprender los atributos por sí solos y sus interacciones. Ejemplos:\n",
        "- Use la función hist () para crear un histograma de cada atributo.\n",
        "- Use la función plot (kind = 'box') para crear diagramas de caja y cajas de cada atributo.\n",
        "- Utilice la función  pandas.scatter_matrix() para crear gráficos de dispersión por pares de todos los atributos.\n",
        "\n",
        "Es importante agregar```% inline matplotlib```  en la primera línea de su código si desea que la imagen esté incrustada en el *notebook* de Júpiter.\n",
        "\n",
        "\n",
        "[pyplot](http://matplotlib.org/api/pyplot_api.html) es la mejor opción, claro que si trabajamos con Pandas, el tiene ya programada las graficas utlizando toda la información del dataset [ejemplo](https://pandas.pydata.org/pandas-docs/stable/10min.html#plotting)\n",
        "\n",
        "\n",
        "**Ejercicio ** \n",
        "\n",
        "- Cargar el dataset de Fasecolda suministrado en csv\n",
        "\n",
        "  - Cargar archivos CSV en Python usando el CSV.reader ()\n",
        "  - Cargar archivos CSV usando NumPy y el numpy.loadtxt ()\n",
        "  - Cargar archivos CSV usando Pandas y pandas.read csv ()\n",
        "\n",
        "-  Comprenda sus datos usando la función `columns` para ver las filas\n",
        "-  Utilize diferentes criterios para filtrar los datos.\n",
        "-  utilize por lo menos tres funciones de panda para describir los datos filtrados\n",
        "-  guarde los datos filtrados\n",
        "-  Realize por lo menos tres graficas de los datos\n",
        "\n",
        "[Link de descarga](https://drive.google.com/file/d/1mPnVLno8uLF1bD1EQbIRVUmxk1c1BVc4/view?usp=sharing)\n"
      ]
    },
    {
      "metadata": {
        "id": "xxBFGIfemmxq",
        "colab_type": "code",
        "outputId": "df5e5056-d7a5-479f-9426-e0c7c08f1a08",
        "colab": {
          "resources": {
            "http://localhost:8080/nbextensions/google.colab/files.js": {
              "data": "Ly8gQ29weXJpZ2h0IDIwMTcgR29vZ2xlIExMQwovLwovLyBMaWNlbnNlZCB1bmRlciB0aGUgQXBhY2hlIExpY2Vuc2UsIFZlcnNpb24gMi4wICh0aGUgIkxpY2Vuc2UiKTsKLy8geW91IG1heSBub3QgdXNlIHRoaXMgZmlsZSBleGNlcHQgaW4gY29tcGxpYW5jZSB3aXRoIHRoZSBMaWNlbnNlLgovLyBZb3UgbWF5IG9idGFpbiBhIGNvcHkgb2YgdGhlIExpY2Vuc2UgYXQKLy8KLy8gICAgICBodHRwOi8vd3d3LmFwYWNoZS5vcmcvbGljZW5zZXMvTElDRU5TRS0yLjAKLy8KLy8gVW5sZXNzIHJlcXVpcmVkIGJ5IGFwcGxpY2FibGUgbGF3IG9yIGFncmVlZCB0byBpbiB3cml0aW5nLCBzb2Z0d2FyZQovLyBkaXN0cmlidXRlZCB1bmRlciB0aGUgTGljZW5zZSBpcyBkaXN0cmlidXRlZCBvbiBhbiAiQVMgSVMiIEJBU0lTLAovLyBXSVRIT1VUIFdBUlJBTlRJRVMgT1IgQ09ORElUSU9OUyBPRiBBTlkgS0lORCwgZWl0aGVyIGV4cHJlc3Mgb3IgaW1wbGllZC4KLy8gU2VlIHRoZSBMaWNlbnNlIGZvciB0aGUgc3BlY2lmaWMgbGFuZ3VhZ2UgZ292ZXJuaW5nIHBlcm1pc3Npb25zIGFuZAovLyBsaW1pdGF0aW9ucyB1bmRlciB0aGUgTGljZW5zZS4KCi8qKgogKiBAZmlsZW92ZXJ2aWV3IEhlbHBlcnMgZm9yIGdvb2dsZS5jb2xhYiBQeXRob24gbW9kdWxlLgogKi8KKGZ1bmN0aW9uKHNjb3BlKSB7CmZ1bmN0aW9uIHNwYW4odGV4dCwgc3R5bGVBdHRyaWJ1dGVzID0ge30pIHsKICBjb25zdCBlbGVtZW50ID0gZG9jdW1lbnQuY3JlYXRlRWxlbWVudCgnc3BhbicpOwogIGVsZW1lbnQudGV4dENvbnRlbnQgPSB0ZXh0OwogIGZvciAoY29uc3Qga2V5IG9mIE9iamVjdC5rZXlzKHN0eWxlQXR0cmlidXRlcykpIHsKICAgIGVsZW1lbnQuc3R5bGVba2V5XSA9IHN0eWxlQXR0cmlidXRlc1trZXldOwogIH0KICByZXR1cm4gZWxlbWVudDsKfQoKLy8gTWF4IG51bWJlciBvZiBieXRlcyB3aGljaCB3aWxsIGJlIHVwbG9hZGVkIGF0IGEgdGltZS4KY29uc3QgTUFYX1BBWUxPQURfU0laRSA9IDEwMCAqIDEwMjQ7Ci8vIE1heCBhbW91bnQgb2YgdGltZSB0byBibG9jayB3YWl0aW5nIGZvciB0aGUgdXNlci4KY29uc3QgRklMRV9DSEFOR0VfVElNRU9VVF9NUyA9IDMwICogMTAwMDsKCmZ1bmN0aW9uIF91cGxvYWRGaWxlcyhpbnB1dElkLCBvdXRwdXRJZCkgewogIGNvbnN0IHN0ZXBzID0gdXBsb2FkRmlsZXNTdGVwKGlucHV0SWQsIG91dHB1dElkKTsKICBjb25zdCBvdXRwdXRFbGVtZW50ID0gZG9jdW1lbnQuZ2V0RWxlbWVudEJ5SWQob3V0cHV0SWQpOwogIC8vIENhY2hlIHN0ZXBzIG9uIHRoZSBvdXRwdXRFbGVtZW50IHRvIG1ha2UgaXQgYXZhaWxhYmxlIGZvciB0aGUgbmV4dCBjYWxsCiAgLy8gdG8gdXBsb2FkRmlsZXNDb250aW51ZSBmcm9tIFB5dGhvbi4KICBvdXRwdXRFbGVtZW50LnN0ZXBzID0gc3RlcHM7CgogIHJldHVybiBfdXBsb2FkRmlsZXNDb250aW51ZShvdXRwdXRJZCk7Cn0KCi8vIFRoaXMgaXMgcm91Z2hseSBhbiBhc3luYyBnZW5lcmF0b3IgKG5vdCBzdXBwb3J0ZWQgaW4gdGhlIGJyb3dzZXIgeWV0KSwKLy8gd2hlcmUgdGhlcmUgYXJlIG11bHRpcGxlIGFzeW5jaHJvbm91cyBzdGVwcyBhbmQgdGhlIFB5dGhvbiBzaWRlIGlzIGdvaW5nCi8vIHRvIHBvbGwgZm9yIGNvbXBsZXRpb24gb2YgZWFjaCBzdGVwLgovLyBUaGlzIHVzZXMgYSBQcm9taXNlIHRvIGJsb2NrIHRoZSBweXRob24gc2lkZSBvbiBjb21wbGV0aW9uIG9mIGVhY2ggc3RlcCwKLy8gdGhlbiBwYXNzZXMgdGhlIHJlc3VsdCBvZiB0aGUgcHJldmlvdXMgc3RlcCBhcyB0aGUgaW5wdXQgdG8gdGhlIG5leHQgc3RlcC4KZnVuY3Rpb24gX3VwbG9hZEZpbGVzQ29udGludWUob3V0cHV0SWQpIHsKICBjb25zdCBvdXRwdXRFbGVtZW50ID0gZG9jdW1lbnQuZ2V0RWxlbWVudEJ5SWQob3V0cHV0SWQpOwogIGNvbnN0IHN0ZXBzID0gb3V0cHV0RWxlbWVudC5zdGVwczsKCiAgY29uc3QgbmV4dCA9IHN0ZXBzLm5leHQob3V0cHV0RWxlbWVudC5sYXN0UHJvbWlzZVZhbHVlKTsKICByZXR1cm4gUHJvbWlzZS5yZXNvbHZlKG5leHQudmFsdWUucHJvbWlzZSkudGhlbigodmFsdWUpID0+IHsKICAgIC8vIENhY2hlIHRoZSBsYXN0IHByb21pc2UgdmFsdWUgdG8gbWFrZSBpdCBhdmFpbGFibGUgdG8gdGhlIG5leHQKICAgIC8vIHN0ZXAgb2YgdGhlIGdlbmVyYXRvci4KICAgIG91dHB1dEVsZW1lbnQubGFzdFByb21pc2VWYWx1ZSA9IHZhbHVlOwogICAgcmV0dXJuIG5leHQudmFsdWUucmVzcG9uc2U7CiAgfSk7Cn0KCi8qKgogKiBHZW5lcmF0b3IgZnVuY3Rpb24gd2hpY2ggaXMgY2FsbGVkIGJldHdlZW4gZWFjaCBhc3luYyBzdGVwIG9mIHRoZSB1cGxvYWQKICogcHJvY2Vzcy4KICogQHBhcmFtIHtzdHJpbmd9IGlucHV0SWQgRWxlbWVudCBJRCBvZiB0aGUgaW5wdXQgZmlsZSBwaWNrZXIgZWxlbWVudC4KICogQHBhcmFtIHtzdHJpbmd9IG91dHB1dElkIEVsZW1lbnQgSUQgb2YgdGhlIG91dHB1dCBkaXNwbGF5LgogKiBAcmV0dXJuIHshSXRlcmFibGU8IU9iamVjdD59IEl0ZXJhYmxlIG9mIG5leHQgc3RlcHMuCiAqLwpmdW5jdGlvbiogdXBsb2FkRmlsZXNTdGVwKGlucHV0SWQsIG91dHB1dElkKSB7CiAgY29uc3QgaW5wdXRFbGVtZW50ID0gZG9jdW1lbnQuZ2V0RWxlbWVudEJ5SWQoaW5wdXRJZCk7CiAgaW5wdXRFbGVtZW50LmRpc2FibGVkID0gZmFsc2U7CgogIGNvbnN0IG91dHB1dEVsZW1lbnQgPSBkb2N1bWVudC5nZXRFbGVtZW50QnlJZChvdXRwdXRJZCk7CiAgb3V0cHV0RWxlbWVudC5pbm5lckhUTUwgPSAnJzsKCiAgY29uc3QgcGlja2VkUHJvbWlzZSA9IG5ldyBQcm9taXNlKChyZXNvbHZlKSA9PiB7CiAgICBpbnB1dEVsZW1lbnQuYWRkRXZlbnRMaXN0ZW5lcignY2hhbmdlJywgKGUpID0+IHsKICAgICAgcmVzb2x2ZShlLnRhcmdldC5maWxlcyk7CiAgICB9KTsKICB9KTsKCiAgY29uc3QgY2FuY2VsID0gZG9jdW1lbnQuY3JlYXRlRWxlbWVudCgnYnV0dG9uJyk7CiAgaW5wdXRFbGVtZW50LnBhcmVudEVsZW1lbnQuYXBwZW5kQ2hpbGQoY2FuY2VsKTsKICBjYW5jZWwudGV4dENvbnRlbnQgPSAnQ2FuY2VsIHVwbG9hZCc7CiAgY29uc3QgY2FuY2VsUHJvbWlzZSA9IG5ldyBQcm9taXNlKChyZXNvbHZlKSA9PiB7CiAgICBjYW5jZWwub25jbGljayA9ICgpID0+IHsKICAgICAgcmVzb2x2ZShudWxsKTsKICAgIH07CiAgfSk7CgogIC8vIENhbmNlbCB1cGxvYWQgaWYgdXNlciBoYXNuJ3QgcGlja2VkIGFueXRoaW5nIGluIHRpbWVvdXQuCiAgY29uc3QgdGltZW91dFByb21pc2UgPSBuZXcgUHJvbWlzZSgocmVzb2x2ZSkgPT4gewogICAgc2V0VGltZW91dCgoKSA9PiB7CiAgICAgIHJlc29sdmUobnVsbCk7CiAgICB9LCBGSUxFX0NIQU5HRV9USU1FT1VUX01TKTsKICB9KTsKCiAgLy8gV2FpdCBmb3IgdGhlIHVzZXIgdG8gcGljayB0aGUgZmlsZXMuCiAgY29uc3QgZmlsZXMgPSB5aWVsZCB7CiAgICBwcm9taXNlOiBQcm9taXNlLnJhY2UoW3BpY2tlZFByb21pc2UsIHRpbWVvdXRQcm9taXNlLCBjYW5jZWxQcm9taXNlXSksCiAgICByZXNwb25zZTogewogICAgICBhY3Rpb246ICdzdGFydGluZycsCiAgICB9CiAgfTsKCiAgaWYgKCFmaWxlcykgewogICAgcmV0dXJuIHsKICAgICAgcmVzcG9uc2U6IHsKICAgICAgICBhY3Rpb246ICdjb21wbGV0ZScsCiAgICAgIH0KICAgIH07CiAgfQoKICBjYW5jZWwucmVtb3ZlKCk7CgogIC8vIERpc2FibGUgdGhlIGlucHV0IGVsZW1lbnQgc2luY2UgZnVydGhlciBwaWNrcyBhcmUgbm90IGFsbG93ZWQuCiAgaW5wdXRFbGVtZW50LmRpc2FibGVkID0gdHJ1ZTsKCiAgZm9yIChjb25zdCBmaWxlIG9mIGZpbGVzKSB7CiAgICBjb25zdCBsaSA9IGRvY3VtZW50LmNyZWF0ZUVsZW1lbnQoJ2xpJyk7CiAgICBsaS5hcHBlbmQoc3BhbihmaWxlLm5hbWUsIHtmb250V2VpZ2h0OiAnYm9sZCd9KSk7CiAgICBsaS5hcHBlbmQoc3BhbigKICAgICAgICBgKCR7ZmlsZS50eXBlIHx8ICduL2EnfSkgLSAke2ZpbGUuc2l6ZX0gYnl0ZXMsIGAgKwogICAgICAgIGBsYXN0IG1vZGlmaWVkOiAkewogICAgICAgICAgICBmaWxlLmxhc3RNb2RpZmllZERhdGUgPyBmaWxlLmxhc3RNb2RpZmllZERhdGUudG9Mb2NhbGVEYXRlU3RyaW5nKCkgOgogICAgICAgICAgICAgICAgICAgICAgICAgICAgICAgICAgICAnbi9hJ30gLSBgKSk7CiAgICBjb25zdCBwZXJjZW50ID0gc3BhbignMCUgZG9uZScpOwogICAgbGkuYXBwZW5kQ2hpbGQocGVyY2VudCk7CgogICAgb3V0cHV0RWxlbWVudC5hcHBlbmRDaGlsZChsaSk7CgogICAgY29uc3QgZmlsZURhdGFQcm9taXNlID0gbmV3IFByb21pc2UoKHJlc29sdmUpID0+IHsKICAgICAgY29uc3QgcmVhZGVyID0gbmV3IEZpbGVSZWFkZXIoKTsKICAgICAgcmVhZGVyLm9ubG9hZCA9IChlKSA9PiB7CiAgICAgICAgcmVzb2x2ZShlLnRhcmdldC5yZXN1bHQpOwogICAgICB9OwogICAgICByZWFkZXIucmVhZEFzQXJyYXlCdWZmZXIoZmlsZSk7CiAgICB9KTsKICAgIC8vIFdhaXQgZm9yIHRoZSBkYXRhIHRvIGJlIHJlYWR5LgogICAgbGV0IGZpbGVEYXRhID0geWllbGQgewogICAgICBwcm9taXNlOiBmaWxlRGF0YVByb21pc2UsCiAgICAgIHJlc3BvbnNlOiB7CiAgICAgICAgYWN0aW9uOiAnY29udGludWUnLAogICAgICB9CiAgICB9OwoKICAgIC8vIFVzZSBhIGNodW5rZWQgc2VuZGluZyB0byBhdm9pZCBtZXNzYWdlIHNpemUgbGltaXRzLiBTZWUgYi82MjExNTY2MC4KICAgIGxldCBwb3NpdGlvbiA9IDA7CiAgICB3aGlsZSAocG9zaXRpb24gPCBmaWxlRGF0YS5ieXRlTGVuZ3RoKSB7CiAgICAgIGNvbnN0IGxlbmd0aCA9IE1hdGgubWluKGZpbGVEYXRhLmJ5dGVMZW5ndGggLSBwb3NpdGlvbiwgTUFYX1BBWUxPQURfU0laRSk7CiAgICAgIGNvbnN0IGNodW5rID0gbmV3IFVpbnQ4QXJyYXkoZmlsZURhdGEsIHBvc2l0aW9uLCBsZW5ndGgpOwogICAgICBwb3NpdGlvbiArPSBsZW5ndGg7CgogICAgICBjb25zdCBiYXNlNjQgPSBidG9hKFN0cmluZy5mcm9tQ2hhckNvZGUuYXBwbHkobnVsbCwgY2h1bmspKTsKICAgICAgeWllbGQgewogICAgICAgIHJlc3BvbnNlOiB7CiAgICAgICAgICBhY3Rpb246ICdhcHBlbmQnLAogICAgICAgICAgZmlsZTogZmlsZS5uYW1lLAogICAgICAgICAgZGF0YTogYmFzZTY0LAogICAgICAgIH0sCiAgICAgIH07CiAgICAgIHBlcmNlbnQudGV4dENvbnRlbnQgPQogICAgICAgICAgYCR7TWF0aC5yb3VuZCgocG9zaXRpb24gLyBmaWxlRGF0YS5ieXRlTGVuZ3RoKSAqIDEwMCl9JSBkb25lYDsKICAgIH0KICB9CgogIC8vIEFsbCBkb25lLgogIHlpZWxkIHsKICAgIHJlc3BvbnNlOiB7CiAgICAgIGFjdGlvbjogJ2NvbXBsZXRlJywKICAgIH0KICB9Owp9CgpzY29wZS5nb29nbGUgPSBzY29wZS5nb29nbGUgfHwge307CnNjb3BlLmdvb2dsZS5jb2xhYiA9IHNjb3BlLmdvb2dsZS5jb2xhYiB8fCB7fTsKc2NvcGUuZ29vZ2xlLmNvbGFiLl9maWxlcyA9IHsKICBfdXBsb2FkRmlsZXMsCiAgX3VwbG9hZEZpbGVzQ29udGludWUsCn07Cn0pKHNlbGYpOwo=",
              "ok": true,
              "headers": [
                [
                  "content-type",
                  "application/javascript"
                ]
              ],
              "status": 200,
              "status_text": ""
            }
          },
          "base_uri": "https://localhost:8080/",
          "height": 595
        }
      },
      "cell_type": "code",
      "source": [
        "# Cargamos el archivo (solo en collaborative)\n",
        "from google.colab import files\n",
        "files.upload()"
      ],
      "execution_count": 0,
      "outputs": [
        {
          "output_type": "display_data",
          "data": {
            "text/html": [
              "\n",
              "     <input type=\"file\" id=\"files-2d842d59-8b0f-4954-a3f0-c76703c62cb5\" name=\"files[]\" multiple disabled />\n",
              "     <output id=\"result-2d842d59-8b0f-4954-a3f0-c76703c62cb5\">\n",
              "      Upload widget is only available when the cell has been executed in the\n",
              "      current browser session. Please rerun this cell to enable.\n",
              "      </output>\n",
              "      <script src=\"/nbextensions/google.colab/files.js\"></script> "
            ],
            "text/plain": [
              "<IPython.core.display.HTML object>"
            ]
          },
          "metadata": {
            "tags": []
          }
        },
        {
          "output_type": "error",
          "ename": "KeyboardInterrupt",
          "evalue": "ignored",
          "traceback": [
            "\u001b[0;31m---------------------------------------------------------------------------\u001b[0m",
            "\u001b[0;31mKeyboardInterrupt\u001b[0m                         Traceback (most recent call last)",
            "\u001b[0;32m<ipython-input-2-5c2e8a8d365b>\u001b[0m in \u001b[0;36m<module>\u001b[0;34m()\u001b[0m\n\u001b[1;32m      1\u001b[0m \u001b[0;32mfrom\u001b[0m \u001b[0mgoogle\u001b[0m\u001b[0;34m.\u001b[0m\u001b[0mcolab\u001b[0m \u001b[0;32mimport\u001b[0m \u001b[0mfiles\u001b[0m\u001b[0;34m\u001b[0m\u001b[0;34m\u001b[0m\u001b[0m\n\u001b[0;32m----> 2\u001b[0;31m \u001b[0mfiles\u001b[0m\u001b[0;34m.\u001b[0m\u001b[0mupload\u001b[0m\u001b[0;34m(\u001b[0m\u001b[0;34m)\u001b[0m\u001b[0;34m\u001b[0m\u001b[0;34m\u001b[0m\u001b[0m\n\u001b[0m",
            "\u001b[0;32m/usr/local/lib/python3.6/dist-packages/google/colab/files.py\u001b[0m in \u001b[0;36mupload\u001b[0;34m()\u001b[0m\n\u001b[1;32m     62\u001b[0m   result = _output.eval_js(\n\u001b[1;32m     63\u001b[0m       'google.colab._files._uploadFiles(\"{input_id}\", \"{output_id}\")'.format(\n\u001b[0;32m---> 64\u001b[0;31m           input_id=input_id, output_id=output_id))\n\u001b[0m\u001b[1;32m     65\u001b[0m   \u001b[0mfiles\u001b[0m \u001b[0;34m=\u001b[0m \u001b[0m_collections\u001b[0m\u001b[0;34m.\u001b[0m\u001b[0mdefaultdict\u001b[0m\u001b[0;34m(\u001b[0m\u001b[0m_six\u001b[0m\u001b[0;34m.\u001b[0m\u001b[0mbinary_type\u001b[0m\u001b[0;34m)\u001b[0m\u001b[0;34m\u001b[0m\u001b[0;34m\u001b[0m\u001b[0m\n\u001b[1;32m     66\u001b[0m   \u001b[0;31m# Mapping from original filename to filename as saved locally.\u001b[0m\u001b[0;34m\u001b[0m\u001b[0;34m\u001b[0m\u001b[0;34m\u001b[0m\u001b[0m\n",
            "\u001b[0;32m/usr/local/lib/python3.6/dist-packages/google/colab/output/_js.py\u001b[0m in \u001b[0;36meval_js\u001b[0;34m(script, ignore_result)\u001b[0m\n\u001b[1;32m     37\u001b[0m   \u001b[0;32mif\u001b[0m \u001b[0mignore_result\u001b[0m\u001b[0;34m:\u001b[0m\u001b[0;34m\u001b[0m\u001b[0;34m\u001b[0m\u001b[0m\n\u001b[1;32m     38\u001b[0m     \u001b[0;32mreturn\u001b[0m\u001b[0;34m\u001b[0m\u001b[0;34m\u001b[0m\u001b[0m\n\u001b[0;32m---> 39\u001b[0;31m   \u001b[0;32mreturn\u001b[0m \u001b[0m_message\u001b[0m\u001b[0;34m.\u001b[0m\u001b[0mread_reply_from_input\u001b[0m\u001b[0;34m(\u001b[0m\u001b[0mrequest_id\u001b[0m\u001b[0;34m)\u001b[0m\u001b[0;34m\u001b[0m\u001b[0;34m\u001b[0m\u001b[0m\n\u001b[0m\u001b[1;32m     40\u001b[0m \u001b[0;34m\u001b[0m\u001b[0m\n\u001b[1;32m     41\u001b[0m \u001b[0;34m\u001b[0m\u001b[0m\n",
            "\u001b[0;32m/usr/local/lib/python3.6/dist-packages/google/colab/_message.py\u001b[0m in \u001b[0;36mread_reply_from_input\u001b[0;34m(message_id, timeout_sec)\u001b[0m\n\u001b[1;32m     99\u001b[0m     \u001b[0mreply\u001b[0m \u001b[0;34m=\u001b[0m \u001b[0m_read_next_input_message\u001b[0m\u001b[0;34m(\u001b[0m\u001b[0;34m)\u001b[0m\u001b[0;34m\u001b[0m\u001b[0;34m\u001b[0m\u001b[0m\n\u001b[1;32m    100\u001b[0m     \u001b[0;32mif\u001b[0m \u001b[0mreply\u001b[0m \u001b[0;34m==\u001b[0m \u001b[0m_NOT_READY\u001b[0m \u001b[0;32mor\u001b[0m \u001b[0;32mnot\u001b[0m \u001b[0misinstance\u001b[0m\u001b[0;34m(\u001b[0m\u001b[0mreply\u001b[0m\u001b[0;34m,\u001b[0m \u001b[0mdict\u001b[0m\u001b[0;34m)\u001b[0m\u001b[0;34m:\u001b[0m\u001b[0;34m\u001b[0m\u001b[0;34m\u001b[0m\u001b[0m\n\u001b[0;32m--> 101\u001b[0;31m       \u001b[0mtime\u001b[0m\u001b[0;34m.\u001b[0m\u001b[0msleep\u001b[0m\u001b[0;34m(\u001b[0m\u001b[0;36m0.025\u001b[0m\u001b[0;34m)\u001b[0m\u001b[0;34m\u001b[0m\u001b[0;34m\u001b[0m\u001b[0m\n\u001b[0m\u001b[1;32m    102\u001b[0m       \u001b[0;32mcontinue\u001b[0m\u001b[0;34m\u001b[0m\u001b[0;34m\u001b[0m\u001b[0m\n\u001b[1;32m    103\u001b[0m     if (reply.get('type') == 'colab_reply' and\n",
            "\u001b[0;31mKeyboardInterrupt\u001b[0m: "
          ]
        }
      ]
    },
    {
      "metadata": {
        "id": "tRTp5M0wVpVy",
        "colab_type": "code",
        "outputId": "1b030e52-c632-48db-a9f4-f70b5e83987a",
        "colab": {
          "base_uri": "https://localhost:8080/",
          "height": 629
        }
      },
      "cell_type": "code",
      "source": [
        "# Load CSV using Pandas from URL\n",
        "import pandas as pd\n",
        "from IPython.display import display, HTML\n",
        "\n",
        "data = pd.read_csv('guia_fasecolda.csv')\n",
        "print(\"Total de memoria ram requerida \",data.memory_usage().sum())\n",
        "\n",
        "# Imprimir Columnas\n",
        "print(data.columns)\n",
        "\n",
        "\n",
        "#Realiza diferentes filtros sobre los datos y describelos\n",
        "# guarda los datos filtrados\n",
        "\n",
        "#### Filtro1:campo \"2018\" >60000\n",
        "#### Columnas 'Referencia1','Referencia2','Cilindraje','Peso','2016','2017','2018','Marca'\n",
        "df1 = data[(data['2018']>60000)][['Referencia1','Referencia2','Cilindraje','Peso','2016','2017','2018','Marca']]\n",
        "\n",
        "\n",
        "#### Filtro2:TipoCaja=MT y Referencia1 contenga TOLEDO\n",
        "#### Columnas 'Marca','Referencia1','Referencia2','Cilindraje','Peso','2018'\n",
        "df2 = data[(data.TipoCaja==\"MT\") & (data.Referencia1.str.contains('TOLEDO'))][['Marca','Referencia1','Referencia2','Cilindraje','Peso','2018']]\n",
        "\n",
        "\n",
        "#### Filtro3:TipoCaja=TP y Transmision=4X4\n",
        "#### Columnas 'Marca','Referencia1','Referencia2','Cilindraje','Peso','Potencia'\n",
        "df3 = data[(data.TipoCaja==\"TP\") & (data.Transmision==\"4X4\")][['Marca','Referencia1','Referencia2','Cilindraje','Peso','Potencia']]\n",
        "\n",
        "\n",
        "#### Filtro4:Peso > 2000 y Clase=Automovil\n",
        "#### Columnas 'Marca','Referencia1','Referencia2','Cilindraje','Peso','Potencia'\n",
        "#### Limit: 10 primeros registros\n",
        "df4 = data[(data.Peso > 2000) & (data.Clase==\"AUTOMOVIL\")][['Marca','Referencia1','Referencia2','Cilindraje','Peso','Potencia']][:10]\n",
        "\n",
        "\n",
        "# Utilize por lo menos tres funciones de panda para describir los datos filtrados\n",
        "\n",
        "## Funcion DESCRIBE sacando percentiles por el campo \"2018\"\n",
        "print('\\nFuncion DESCRIBE sacando percentiles por el campo \"2018\" para el filtro1')\n",
        "print(df1['2018'].describe(percentiles=[.05, .25, .75, .95]))\n",
        "\n",
        "## Funcion min y max\n",
        "print('\\nFuncion MIN y MAX sobre el campo \"2018\" para el filtro1')\n",
        "print(\"MIN \"+str(df1['2018'].min()))\n",
        "print(\"MAX \"+str(df1['2018'].max()))\n",
        "\n",
        "## Funcion median de campo peso filtro3\n",
        "print('\\nFuncion Median sobre el campo Peso para el filtro3')\n",
        "print(df3.Peso.median())\n",
        "\n",
        "## Funcion mean de campo potencia filtro4\n",
        "print('\\nFuncion Mean sobre el campo Potencia para el filtro4')\n",
        "print(df4.Potencia.mean())\n",
        "\n",
        " \n",
        "  \n",
        "#display(HTML((data.head().to_html())))\n",
        "#print(df[data['2015']>50000])\n"
      ],
      "execution_count": 0,
      "outputs": [
        {
          "output_type": "stream",
          "text": [
            "Total de memoria ram requerida  7559344\n",
            "Index(['Novedad', 'Marca', 'Clase', 'Codigo', 'HomologoCodigo', 'Referencia1',\n",
            "       'Referencia2', 'Referencia3', 'Peso', 'IdServicio', 'Servicio', '1970',\n",
            "       '1971', '1972', '1973', '1974', '1975', '1976', '1977', '1978', '1979',\n",
            "       '1980', '1981', '1982', '1983', '1984', '1985', '1986', '1987', '1988',\n",
            "       '1989', '1990', '1991', '1992', '1993', '1994', '1995', '1996', '1997',\n",
            "       '1998', '1999', '2000', '2001', '2002', '2003', '2004', '2005', '2006',\n",
            "       '2007', '2008', '2009', '2010', '2011', '2012', '2013', '2014', '2015',\n",
            "       '2016', '2017', '2018', 'Bcpp', 'Importado', 'Potencia', 'TipoCaja',\n",
            "       'Cilindraje', 'Nacionalidad', 'CapacidadPasajeros', 'CapacidadCarga',\n",
            "       'Puertas', 'AireAcondicionado', 'Ejes', 'Estado', 'Combustible',\n",
            "       'Transmision', 'Um', 'PesoCategoria'],\n",
            "      dtype='object')\n",
            "\n",
            "Funcion DESCRIBE sacando percentiles por el campo \"2018\" para el filtro1\n",
            "count    6.380000e+03\n",
            "mean     1.356795e+05\n",
            "std      9.473256e+04\n",
            "min      6.010000e+04\n",
            "5%       6.350000e+04\n",
            "25%      7.840000e+04\n",
            "50%      1.059000e+05\n",
            "75%      1.574250e+05\n",
            "95%      3.100000e+05\n",
            "max      1.750000e+06\n",
            "Name: 2018, dtype: float64\n",
            "\n",
            "Funcion MIN y MAX sobre el campo \"2018\" para el filtro1\n",
            "MIN 60100\n",
            "MAX 1750000\n",
            "\n",
            "Funcion Median sobre el campo Peso para el filtro3\n",
            "1890.0\n",
            "\n",
            "Funcion Mean sobre el campo Potencia para el filtro4\n",
            "393.8\n"
          ],
          "name": "stdout"
        }
      ]
    },
    {
      "metadata": {
        "id": "hZm4TQoPVpV3",
        "colab_type": "code",
        "outputId": "633b96a6-1fe0-40b8-8b4f-c348cfe39238",
        "colab": {
          "base_uri": "https://localhost:8080/",
          "height": 1258
        }
      },
      "cell_type": "code",
      "source": [
        "\n",
        "%matplotlib inline\n",
        "import pandas as pd\n",
        "import matplotlib.pyplot as plt\n",
        "\n",
        "plt.figure()\n",
        "data[['Cilindraje','Peso']].plot(kind = 'box',ylim=(-1000,10000))\n",
        "plt.title('Grafica 1')\n",
        "plt.show()\n",
        "\n",
        "\n",
        "plt.figure()\n",
        "df2[['2018','Referencia1','Referencia2']][:10].plot(kind = 'bar' ,x='Referencia2' ,y='2018')\n",
        "plt.title('Grafica 2')\n",
        "plt.show()\n",
        "\n",
        "\n",
        "plt.figure()\n",
        "df3[['Potencia','Cilindraje','Marca']].plot(kind = 'scatter' ,x='Potencia' ,y='Cilindraje' ,c='Potencia',colormap='viridis')\n",
        "plt.title('Grafica 3')\n",
        "plt.show()\n",
        "\n",
        "\n",
        "plt.figure()\n",
        "df4[['Peso','Referencia1']].plot(kind = 'bar' ,x='Referencia1' ,y='Peso')\n",
        "plt.title('Grafica 4')\n",
        "plt.show()\n",
        "\n",
        "\n"
      ],
      "execution_count": 0,
      "outputs": [
        {
          "output_type": "display_data",
          "data": {
            "text/plain": [
              "<Figure size 432x288 with 0 Axes>"
            ]
          },
          "metadata": {
            "tags": []
          }
        },
        {
          "output_type": "display_data",
          "data": {
            "image/png": "[encoded data removed]",
            "text/plain": [
              "<Figure size 432x288 with 1 Axes>"
            ]
          },
          "metadata": {
            "tags": []
          }
        },
        {
          "output_type": "display_data",
          "data": {
            "text/plain": [
              "<Figure size 432x288 with 0 Axes>"
            ]
          },
          "metadata": {
            "tags": []
          }
        },
        {
          "output_type": "display_data",
          "data": {
            "image/png": "[encoded data removed]",
            "text/plain": [
              "<Figure size 432x288 with 1 Axes>"
            ]
          },
          "metadata": {
            "tags": []
          }
        },
        {
          "output_type": "display_data",
          "data": {
            "text/plain": [
              "<Figure size 432x288 with 0 Axes>"
            ]
          },
          "metadata": {
            "tags": []
          }
        },
        {
          "output_type": "display_data",
          "data": {
            "image/png": "[encoded data removed]",
            "text/plain": [
              "<Figure size 432x288 with 2 Axes>"
            ]
          },
          "metadata": {
            "tags": []
          }
        },
        {
          "output_type": "display_data",
          "data": {
            "text/plain": [
              "<Figure size 432x288 with 0 Axes>"
            ]
          },
          "metadata": {
            "tags": []
          }
        },
        {
          "output_type": "display_data",
          "data": {
            "image/png": "[encoded data removed]",
            "text/plain": [
              "<Figure size 432x288 with 1 Axes>"
            ]
          },
          "metadata": {
            "tags": []
          }
        }
      ]
    },
    {
      "metadata": {
        "id": "xEVfGweyVpWC",
        "colab_type": "text"
      },
      "cell_type": "markdown",
      "source": [
        "## Ejercicio\n",
        "\n",
        "\n",
        "![](iris_petal_sepal.png)\n",
        "\n",
        "Sobre el dataset  [IRIS](https://archive.ics.uci.edu/ml/datasets/iris)\n",
        "\n",
        "[Link de descarga](https://drive.google.com/file/d/1rYoYIBSt4C5qZCBBOtxUkvPxQiddpWaP/view?usp=sharing)\n"
      ]
    },
    {
      "metadata": {
        "id": "8iKNIiVNVpV-",
        "colab_type": "text"
      },
      "cell_type": "markdown",
      "source": [
        "- Converir de  csv to SQL"
      ]
    },
    {
      "metadata": {
        "id": "WURocc1TrrVo",
        "colab_type": "code",
        "outputId": "c8e641d1-0c8d-43a2-9eed-0ca04afc9d1c",
        "colab": {
          "resources": {
            "http://localhost:8080/nbextensions/google.colab/files.js": {
              "data": "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",
              "ok": true,
              "headers": [
                [
                  "content-type",
                  "application/javascript"
                ]
              ],
              "status": 200,
              "status_text": ""
            }
          },
          "base_uri": "https://localhost:8080/",
          "height": 109
        }
      },
      "cell_type": "code",
      "source": [
        "# Cargamos el archivo (solo en collaborative)\n",
        "from google.colab import files\n",
        "files.upload()"
      ],
      "execution_count": 0,
      "outputs": [
        {
          "output_type": "display_data",
          "data": {
            "text/html": [
              "\n",
              "     <input type=\"file\" id=\"files-65be7254-9985-4962-a117-31fad114736e\" name=\"files[]\" multiple disabled />\n",
              "     <output id=\"result-65be7254-9985-4962-a117-31fad114736e\">\n",
              "      Upload widget is only available when the cell has been executed in the\n",
              "      current browser session. Please rerun this cell to enable.\n",
              "      </output>\n",
              "      <script src=\"/nbextensions/google.colab/files.js\"></script> "
            ],
            "text/plain": [
              "<IPython.core.display.HTML object>"
            ]
          },
          "metadata": {
            "tags": []
          }
        },
        {
          "output_type": "stream",
          "text": [
            "Saving iris.csv to iris (1).csv\n"
          ],
          "name": "stdout"
        },
        {
          "output_type": "execute_result",
          "data": {
            "text/plain": [
              "{'iris.csv': b'sepal_length,sepal_width,petal_length,petal_width,species\\n5.1,3.5,1.4,0.2,setosa\\n4.9,3,1.4,0.2,setosa\\n4.7,3.2,1.3,0.2,setosa\\n4.6,3.1,1.5,0.2,setosa\\n5,3.6,1.4,0.2,setosa\\n5.4,3.9,1.7,0.4,setosa\\n4.6,3.4,1.4,0.3,setosa\\n5,3.4,1.5,0.2,setosa\\n4.4,2.9,1.4,0.2,setosa\\n4.9,3.1,1.5,0.1,setosa\\n5.4,3.7,1.5,0.2,setosa\\n4.8,3.4,1.6,0.2,setosa\\n4.8,3,1.4,0.1,setosa\\n4.3,3,1.1,0.1,setosa\\n5.8,4,1.2,0.2,setosa\\n5.7,4.4,1.5,0.4,setosa\\n5.4,3.9,1.3,0.4,setosa\\n5.1,3.5,1.4,0.3,setosa\\n5.7,3.8,1.7,0.3,setosa\\n5.1,3.8,1.5,0.3,setosa\\n5.4,3.4,1.7,0.2,setosa\\n5.1,3.7,1.5,0.4,setosa\\n4.6,3.6,1,0.2,setosa\\n5.1,3.3,1.7,0.5,setosa\\n4.8,3.4,1.9,0.2,setosa\\n5,3,1.6,0.2,setosa\\n5,3.4,1.6,0.4,setosa\\n5.2,3.5,1.5,0.2,setosa\\n5.2,3.4,1.4,0.2,setosa\\n4.7,3.2,1.6,0.2,setosa\\n4.8,3.1,1.6,0.2,setosa\\n5.4,3.4,1.5,0.4,setosa\\n5.2,4.1,1.5,0.1,setosa\\n5.5,4.2,1.4,0.2,setosa\\n4.9,3.1,1.5,0.1,setosa\\n5,3.2,1.2,0.2,setosa\\n5.5,3.5,1.3,0.2,setosa\\n4.9,3.1,1.5,0.1,setosa\\n4.4,3,1.3,0.2,setosa\\n5.1,3.4,1.5,0.2,setosa\\n5,3.5,1.3,0.3,setosa\\n4.5,2.3,1.3,0.3,setosa\\n4.4,3.2,1.3,0.2,setosa\\n5,3.5,1.6,0.6,setosa\\n5.1,3.8,1.9,0.4,setosa\\n4.8,3,1.4,0.3,setosa\\n5.1,3.8,1.6,0.2,setosa\\n4.6,3.2,1.4,0.2,setosa\\n5.3,3.7,1.5,0.2,setosa\\n5,3.3,1.4,0.2,setosa\\n7,3.2,4.7,1.4,versicolor\\n6.4,3.2,4.5,1.5,versicolor\\n6.9,3.1,4.9,1.5,versicolor\\n5.5,2.3,4,1.3,versicolor\\n6.5,2.8,4.6,1.5,versicolor\\n5.7,2.8,4.5,1.3,versicolor\\n6.3,3.3,4.7,1.6,versicolor\\n4.9,2.4,3.3,1,versicolor\\n6.6,2.9,4.6,1.3,versicolor\\n5.2,2.7,3.9,1.4,versicolor\\n5,2,3.5,1,versicolor\\n5.9,3,4.2,1.5,versicolor\\n6,2.2,4,1,versicolor\\n6.1,2.9,4.7,1.4,versicolor\\n5.6,2.9,3.6,1.3,versicolor\\n6.7,3.1,4.4,1.4,versicolor\\n5.6,3,4.5,1.5,versicolor\\n5.8,2.7,4.1,1,versicolor\\n6.2,2.2,4.5,1.5,versicolor\\n5.6,2.5,3.9,1.1,versicolor\\n5.9,3.2,4.8,1.8,versicolor\\n6.1,2.8,4,1.3,versicolor\\n6.3,2.5,4.9,1.5,versicolor\\n6.1,2.8,4.7,1.2,versicolor\\n6.4,2.9,4.3,1.3,versicolor\\n6.6,3,4.4,1.4,versicolor\\n6.8,2.8,4.8,1.4,versicolor\\n6.7,3,5,1.7,versicolor\\n6,2.9,4.5,1.5,versicolor\\n5.7,2.6,3.5,1,versicolor\\n5.5,2.4,3.8,1.1,versicolor\\n5.5,2.4,3.7,1,versicolor\\n5.8,2.7,3.9,1.2,versicolor\\n6,2.7,5.1,1.6,versicolor\\n5.4,3,4.5,1.5,versicolor\\n6,3.4,4.5,1.6,versicolor\\n6.7,3.1,4.7,1.5,versicolor\\n6.3,2.3,4.4,1.3,versicolor\\n5.6,3,4.1,1.3,versicolor\\n5.5,2.5,4,1.3,versicolor\\n5.5,2.6,4.4,1.2,versicolor\\n6.1,3,4.6,1.4,versicolor\\n5.8,2.6,4,1.2,versicolor\\n5,2.3,3.3,1,versicolor\\n5.6,2.7,4.2,1.3,versicolor\\n5.7,3,4.2,1.2,versicolor\\n5.7,2.9,4.2,1.3,versicolor\\n6.2,2.9,4.3,1.3,versicolor\\n5.1,2.5,3,1.1,versicolor\\n5.7,2.8,4.1,1.3,versicolor\\n6.3,3.3,6,2.5,virginica\\n5.8,2.7,5.1,1.9,virginica\\n7.1,3,5.9,2.1,virginica\\n6.3,2.9,5.6,1.8,virginica\\n6.5,3,5.8,2.2,virginica\\n7.6,3,6.6,2.1,virginica\\n4.9,2.5,4.5,1.7,virginica\\n7.3,2.9,6.3,1.8,virginica\\n6.7,2.5,5.8,1.8,virginica\\n7.2,3.6,6.1,2.5,virginica\\n6.5,3.2,5.1,2,virginica\\n6.4,2.7,5.3,1.9,virginica\\n6.8,3,5.5,2.1,virginica\\n5.7,2.5,5,2,virginica\\n5.8,2.8,5.1,2.4,virginica\\n6.4,3.2,5.3,2.3,virginica\\n6.5,3,5.5,1.8,virginica\\n7.7,3.8,6.7,2.2,virginica\\n7.7,2.6,6.9,2.3,virginica\\n6,2.2,5,1.5,virginica\\n6.9,3.2,5.7,2.3,virginica\\n5.6,2.8,4.9,2,virginica\\n7.7,2.8,6.7,2,virginica\\n6.3,2.7,4.9,1.8,virginica\\n6.7,3.3,5.7,2.1,virginica\\n7.2,3.2,6,1.8,virginica\\n6.2,2.8,4.8,1.8,virginica\\n6.1,3,4.9,1.8,virginica\\n6.4,2.8,5.6,2.1,virginica\\n7.2,3,5.8,1.6,virginica\\n7.4,2.8,6.1,1.9,virginica\\n7.9,3.8,6.4,2,virginica\\n6.4,2.8,5.6,2.2,virginica\\n6.3,2.8,5.1,1.5,virginica\\n6.1,2.6,5.6,1.4,virginica\\n7.7,3,6.1,2.3,virginica\\n6.3,3.4,5.6,2.4,virginica\\n6.4,3.1,5.5,1.8,virginica\\n6,3,4.8,1.8,virginica\\n6.9,3.1,5.4,2.1,virginica\\n6.7,3.1,5.6,2.4,virginica\\n6.9,3.1,5.1,2.3,virginica\\n5.8,2.7,5.1,1.9,virginica\\n6.8,3.2,5.9,2.3,virginica\\n6.7,3.3,5.7,2.5,virginica\\n6.7,3,5.2,2.3,virginica\\n6.3,2.5,5,1.9,virginica\\n6.5,3,5.2,2,virginica\\n6.2,3.4,5.4,2.3,virginica\\n5.9,3,5.1,1.8,virginica\\n'}"
            ]
          },
          "metadata": {
            "tags": []
          },
          "execution_count": 5
        }
      ]
    },
    {
      "metadata": {
        "id": "EfmSEyu9VpV_",
        "colab_type": "code",
        "colab": {}
      },
      "cell_type": "code",
      "source": [
        "import pandas as pd\n",
        "import sqlite3\n",
        "df = pd.read_csv('iris.csv')\n",
        "table_name='iris'\n",
        "conn = sqlite3.connect(\"iris.sqlite\")\n",
        "df.to_sql(table_name, conn, if_exists='replace', index=False)\n"
      ],
      "execution_count": 0,
      "outputs": []
    },
    {
      "metadata": {
        "id": "eX9pd_4er5Zc",
        "colab_type": "text"
      },
      "cell_type": "markdown",
      "source": [
        "- Describir los datos a partir de funciones de pandas"
      ]
    },
    {
      "metadata": {
        "id": "g1KgItQUVpWC",
        "colab_type": "code",
        "outputId": "d45d1498-1866-415a-8ab7-d1cbfa3d71f7",
        "colab": {
          "base_uri": "https://localhost:8080/",
          "height": 442
        }
      },
      "cell_type": "code",
      "source": [
        "\n",
        "%matplotlib inline\n",
        "import pandas as pd\n",
        "import sqlite3\n",
        "import matplotlib.pyplot as plt\n",
        "\n",
        "\n",
        "\n",
        "# Read sqlite query results into a pandas DataFrame\n",
        "con = sqlite3.connect(\"iris.sqlite\")\n",
        "dfsql = pd.read_sql_query(\"SELECT * from iris\", con)\n",
        "\n",
        "\n",
        "#Dar el número de columnas y filas que tienen el DataFrame\n",
        "print(\"datos ejemplo \")\n",
        "print('No.Columnas: '+str(len(dfsql.columns)))\n",
        "print('No.Filas x columnas:')\n",
        "print(dfsql.count(0))\n",
        "\n",
        "#Mostrará solo la cabecera, es decir; una muestra de los primeros 4 registros o filas del DataFrame\n",
        "print('Cabecera - Primeros 4 Registros')\n",
        "print(dfsql[:4])\n",
        "\n",
        "#En caso de tener una tabla con muchos datos, da un resumen estadístico de la información \n",
        "print(\"estadistica de los datos: \")\n",
        "print(dfsql.describe())\n"
      ],
      "execution_count": 0,
      "outputs": [
        {
          "output_type": "stream",
          "text": [
            "datos ejemplo \n",
            "No.Columnas: 5\n",
            "No.Filas x columnas:\n",
            "sepal_length    150\n",
            "sepal_width     150\n",
            "petal_length    150\n",
            "petal_width     150\n",
            "species         150\n",
            "dtype: int64\n",
            "Cabecera - Primeros 4 Registros\n",
            "   sepal_length  sepal_width  petal_length  petal_width species\n",
            "0           5.1          3.5           1.4          0.2  setosa\n",
            "1           4.9          3.0           1.4          0.2  setosa\n",
            "2           4.7          3.2           1.3          0.2  setosa\n",
            "3           4.6          3.1           1.5          0.2  setosa\n",
            "estadistica de los datos: \n",
            "       sepal_length  sepal_width  petal_length  petal_width\n",
            "count    150.000000   150.000000    150.000000   150.000000\n",
            "mean       5.843333     3.054000      3.758667     1.198667\n",
            "std        0.828066     0.433594      1.764420     0.763161\n",
            "min        4.300000     2.000000      1.000000     0.100000\n",
            "25%        5.100000     2.800000      1.600000     0.300000\n",
            "50%        5.800000     3.000000      4.350000     1.300000\n",
            "75%        6.400000     3.300000      5.100000     1.800000\n",
            "max        7.900000     4.400000      6.900000     2.500000\n"
          ],
          "name": "stdout"
        }
      ]
    },
    {
      "metadata": {
        "id": "RI2ToUEUVpWF",
        "colab_type": "text"
      },
      "cell_type": "markdown",
      "source": [
        "\n",
        "- Filtrar cada uno de las primeras 4 columnas (sepal_length  sepal_width  petal_length  petal_width) por el tipo de especie (`tipos=['setosa','versicolor','virginica']`) y realizar una grafica por cada columna con un histograma(ejemplo con panda `dataframe.plot.hist ` o a traves de `matplotlib.pyplot.hist`) para cada especie\n",
        "\n",
        "\n"
      ]
    },
    {
      "metadata": {
        "scrolled": true,
        "id": "lNovgFQnVpWF",
        "colab_type": "code",
        "outputId": "237701ae-5f34-4f24-95c1-4c95369176f5",
        "colab": {
          "base_uri": "https://localhost:8080/",
          "height": 933
        }
      },
      "cell_type": "code",
      "source": [
        "## Modo sql\n",
        "\n",
        "df1 = pd.read_sql_query(\"SELECT sepal_length ,sepal_width ,petal_length ,petal_width ,species from iris where species in ('setosa','versicolor','virginica')\", con)\n",
        "\n",
        "df1[df1.species=='setosa'].plot(kind='hist',subplots=True ,title='Setosa')\n",
        "df1[df1.species=='versicolor'].plot(kind='hist',subplots=True ,title='Versicolor')\n",
        "df1[df1.species=='virginica'].plot(kind='hist',subplots=True ,title='Virginica')\n",
        "\n"
      ],
      "execution_count": 0,
      "outputs": [
        {
          "output_type": "execute_result",
          "data": {
            "text/plain": [
              "array([<matplotlib.axes._subplots.AxesSubplot object at 0x7f1292386a20>,\n",
              "       <matplotlib.axes._subplots.AxesSubplot object at 0x7f12928ff5c0>,\n",
              "       <matplotlib.axes._subplots.AxesSubplot object at 0x7f1293772160>,\n",
              "       <matplotlib.axes._subplots.AxesSubplot object at 0x7f12930c07f0>],\n",
              "      dtype=object)"
            ]
          },
          "metadata": {
            "tags": []
          },
          "execution_count": 37
        },
        {
          "output_type": "display_data",
          "data": {
            "image/png": "[encoded data removed]",
            "text/plain": [
              "<Figure size 432x288 with 4 Axes>"
            ]
          },
          "metadata": {
            "tags": []
          }
        },
        {
          "output_type": "display_data",
          "data": {
            "image/png": "[encoded data removed]",
            "text/plain": [
              "<Figure size 432x288 with 4 Axes>"
            ]
          },
          "metadata": {
            "tags": []
          }
        },
        {
          "output_type": "display_data",
          "data": {
            "image/png": "[encoded data removed]",
            "text/plain": [
              "<Figure size 432x288 with 4 Axes>"
            ]
          },
          "metadata": {
            "tags": []
          }
        }
      ]
    },
    {
      "metadata": {
        "id": "n-F336mnVpWH",
        "colab_type": "code",
        "colab": {}
      },
      "cell_type": "code",
      "source": [
        "## Modo python\n",
        "## traemos todos lo datos y los filtramos con python \n",
        "filtro = ['setosa','versicolor','virginica']\n",
        "df2 = df[(df.species.isin(filtro))][['sepal_length' ,'sepal_width' ,'petal_length' ,'petal_width']]\n",
        "\n",
        "dfsetosa = df[(df.species=='setosa')][['sepal_length' ,'sepal_width' ,'petal_length' ,'petal_width']]\n",
        "dfversicolor = df[(df.species=='versicolor')][['sepal_length' ,'sepal_width' ,'petal_length' ,'petal_width']]\n",
        "dfvirginica = df[(df.species=='virginica')][['sepal_length' ,'sepal_width' ,'petal_length' ,'petal_width']]\n"
      ],
      "execution_count": 0,
      "outputs": []
    },
    {
      "metadata": {
        "id": "2putlSeSVpWJ",
        "colab_type": "text"
      },
      "cell_type": "markdown",
      "source": [
        "\n",
        "- Realizar la normas euclideana, chebyshev y Manhattan entre los datos de setosa-versicolor , setosa-virginia y virginica-versicolor para cada una de las cuatro columnas\n",
        "\n",
        "Podemos usar la libreria [scipy.spatial](https://docs.scipy.org/doc/scipy/reference/spatial.html)"
      ]
    },
    {
      "metadata": {
        "id": "_qZ5BVHaVpWJ",
        "colab_type": "code",
        "outputId": "11e22dab-b8d8-4f31-98dd-b10814d6c546",
        "colab": {
          "base_uri": "https://localhost:8080/",
          "height": 1003
        }
      },
      "cell_type": "code",
      "source": [
        "from scipy.spatial import distance\n",
        "\n",
        "print(\"EUCLIDEANA\")\n",
        "print(\"  setosa-versicolor:\")\n",
        "\n",
        "x=distance.euclidean(dfsetosa[['sepal_length']] ,dfversicolor[['sepal_length']])\n",
        "print(\"    sepal_length: \"+str(x))\n",
        "\n",
        "x=distance.euclidean(dfsetosa[['sepal_width']] ,dfversicolor[['sepal_width']])\n",
        "print(\"    sepal_width: \"+str(x))\n",
        "\n",
        "x=distance.euclidean(dfsetosa[['petal_length']] ,dfversicolor[['petal_length']])\n",
        "print(\"    petal_length: \"+str(x))\n",
        "\n",
        "x=distance.euclidean(dfsetosa[['petal_width']] ,dfversicolor[['petal_width']])\n",
        "print(\"    petal_width: \"+str(x))\n",
        "\n",
        "\n",
        "print(\"\\n  setosa-virginica:\")\n",
        "\n",
        "x=distance.euclidean(dfsetosa[['sepal_length']] ,dfvirginica[['sepal_length']])\n",
        "print(\"    sepal_length: \"+str(x))\n",
        "\n",
        "x=distance.euclidean(dfsetosa[['sepal_width']] ,dfvirginica[['sepal_width']])\n",
        "print(\"    sepal_width: \"+str(x))\n",
        "\n",
        "x=distance.euclidean(dfsetosa[['petal_length']] ,dfvirginica[['petal_length']])\n",
        "print(\"    petal_length: \"+str(x))\n",
        "\n",
        "x=distance.euclidean(dfsetosa[['petal_width']] ,dfvirginica[['petal_width']])\n",
        "print(\"    petal_width: \"+str(x))\n",
        "\n",
        "\n",
        "print(\"\\n  virginica-versicolor:\")\n",
        "\n",
        "x=distance.euclidean(dfvirginica[['sepal_length']] ,dfversicolor[['sepal_length']])\n",
        "print(\"    sepal_length: \"+str(x))\n",
        "\n",
        "x=distance.euclidean(dfvirginica[['sepal_width']] ,dfversicolor[['sepal_width']])\n",
        "print(\"    sepal_width: \"+str(x))\n",
        "\n",
        "x=distance.euclidean(dfvirginica[['petal_length']] ,dfversicolor[['petal_length']])\n",
        "print(\"    petal_length: \"+str(x))\n",
        "\n",
        "x=distance.euclidean(dfvirginica[['petal_width']] ,dfversicolor[['petal_width']])\n",
        "print(\"    petal_width: \"+str(x))\n",
        "\n",
        "\n",
        "\n",
        "print(\"\\n\\nCHEBYSHEV\")\n",
        "print(\"  setosa-versicolor:\")\n",
        "\n",
        "x=distance.chebyshev(dfsetosa[['sepal_length']] ,dfversicolor[['sepal_length']])\n",
        "print(\"    sepal_length: \"+str(x))\n",
        "\n",
        "x=distance.chebyshev(dfsetosa[['sepal_width']] ,dfversicolor[['sepal_width']])\n",
        "print(\"    sepal_width: \"+str(x))\n",
        "\n",
        "x=distance.chebyshev(dfsetosa[['petal_length']] ,dfversicolor[['petal_length']])\n",
        "print(\"    petal_length: \"+str(x))\n",
        "\n",
        "x=distance.chebyshev(dfsetosa[['petal_width']] ,dfversicolor[['petal_width']])\n",
        "print(\"    petal_width: \"+str(x))\n",
        "\n",
        "\n",
        "print(\"\\n  setosa-virginica:\")\n",
        "\n",
        "x=distance.chebyshev(dfsetosa[['sepal_length']] ,dfvirginica[['sepal_length']])\n",
        "print(\"    sepal_length: \"+str(x))\n",
        "\n",
        "x=distance.chebyshev(dfsetosa[['sepal_width']] ,dfvirginica[['sepal_width']])\n",
        "print(\"    sepal_width: \"+str(x))\n",
        "\n",
        "x=distance.chebyshev(dfsetosa[['petal_length']] ,dfvirginica[['petal_length']])\n",
        "print(\"    petal_length: \"+str(x))\n",
        "\n",
        "x=distance.chebyshev(dfsetosa[['petal_width']] ,dfvirginica[['petal_width']])\n",
        "print(\"    petal_width: \"+str(x))\n",
        "\n",
        "\n",
        "print(\"\\n  virginica-versicolor:\")\n",
        "\n",
        "x=distance.chebyshev(dfvirginica[['sepal_length']] ,dfversicolor[['sepal_length']])\n",
        "print(\"    sepal_length: \"+str(x))\n",
        "\n",
        "x=distance.chebyshev(dfvirginica[['sepal_width']] ,dfversicolor[['sepal_width']])\n",
        "print(\"    sepal_width: \"+str(x))\n",
        "\n",
        "x=distance.chebyshev(dfvirginica[['petal_length']] ,dfversicolor[['petal_length']])\n",
        "print(\"    petal_length: \"+str(x))\n",
        "\n",
        "x=distance.chebyshev(dfvirginica[['petal_width']] ,dfversicolor[['petal_width']])\n",
        "print(\"    petal_width: \"+str(x))\n",
        "\n",
        "\n",
        "print(\"\\n\\nMANHATTAN\")\n",
        "print(\"  setosa-versicolor:\")\n",
        "\n",
        "x=distance.cityblock(dfsetosa[['sepal_length']] ,dfversicolor[['sepal_length']])\n",
        "print(\"    sepal_length: \"+str(x))\n",
        "\n",
        "x=distance.cityblock(dfsetosa[['sepal_width']] ,dfversicolor[['sepal_width']])\n",
        "print(\"    sepal_width: \"+str(x))\n",
        "\n",
        "x=distance.cityblock(dfsetosa[['petal_length']] ,dfversicolor[['petal_length']])\n",
        "print(\"    petal_length: \"+str(x))\n",
        "x=distance.cityblock(dfsetosa[['petal_width']] ,dfversicolor[['petal_width']])\n",
        "print(\"    petal_width: \"+str(x))\n",
        "\n",
        "\n",
        "print(\"\\n  setosa-virginica:\")\n",
        "\n",
        "x=distance.cityblock(dfsetosa[['sepal_length']] ,dfvirginica[['sepal_length']])\n",
        "print(\"    sepal_length: \"+str(x))\n",
        "\n",
        "x=distance.cityblock(dfsetosa[['sepal_width']] ,dfvirginica[['sepal_width']])\n",
        "print(\"    sepal_width: \"+str(x))\n",
        "\n",
        "x=distance.cityblock(dfsetosa[['petal_length']] ,dfvirginica[['petal_length']])\n",
        "print(\"    petal_length: \"+str(x))\n",
        "\n",
        "x=distance.cityblock(dfsetosa[['petal_width']] ,dfvirginica[['petal_width']])\n",
        "print(\"    petal_width: \"+str(x))\n",
        "\n",
        "\n",
        "print(\"\\n  virginica-versicolor:\")\n",
        "\n",
        "x=distance.cityblock(dfvirginica[['sepal_length']] ,dfversicolor[['sepal_length']])\n",
        "print(\"    sepal_length: \"+str(x))\n",
        "\n",
        "x=distance.cityblock(dfvirginica[['sepal_width']] ,dfversicolor[['sepal_width']])\n",
        "print(\"    sepal_width: \"+str(x))\n",
        "\n",
        "x=distance.cityblock(dfvirginica[['petal_length']] ,dfversicolor[['petal_length']])\n",
        "print(\"    petal_length: \"+str(x))\n",
        "\n",
        "x=distance.cityblock(dfvirginica[['petal_width']] ,dfversicolor[['petal_width']])\n",
        "print(\"    petal_width: \"+str(x))\n",
        "\n"
      ],
      "execution_count": 0,
      "outputs": [
        {
          "output_type": "stream",
          "text": [
            "EUCLIDEANA\n",
            "  setosa-versicolor:\n",
            "    sepal_length: 7.989367934949548\n",
            "    sepal_width: 5.842944463196617\n",
            "    petal_length: 20.116659762495363\n",
            "    petal_width: 7.836453279386026\n",
            "\n",
            "  setosa-virginica:\n",
            "    sepal_length: 12.169223475637219\n",
            "    sepal_width: 4.703190406521939\n",
            "    petal_length: 29.17258987474372\n",
            "    petal_width: 12.754999019992121\n",
            "\n",
            "  virginica-versicolor:\n",
            "    sepal_length: 7.660287200882223\n",
            "    sepal_width: 3.5860842154082215\n",
            "    petal_length: 10.556514576317317\n",
            "    petal_width: 5.482700064749119\n",
            "\n",
            "\n",
            "CHEBYSHEV\n",
            "  setosa-versicolor:\n",
            "    sepal_length: 2.2\n",
            "    sepal_width: 1.7000000000000002\n",
            "    petal_length: 3.9000000000000004\n",
            "    petal_width: 1.6\n",
            "\n",
            "  setosa-virginica:\n",
            "    sepal_length: 3.1000000000000005\n",
            "    sepal_width: 1.5999999999999996\n",
            "    petal_length: 5.7\n",
            "    petal_width: 2.4\n",
            "\n",
            "  virginica-versicolor:\n",
            "    sepal_length: 2.4000000000000004\n",
            "    sepal_width: 1.4\n",
            "    petal_length: 3.0\n",
            "    petal_width: 1.2999999999999998\n",
            "\n",
            "\n",
            "MANHATTAN\n",
            "  setosa-versicolor:\n",
            "    sepal_length: 48.300000000000004\n",
            "    sepal_width: 34.60000000000001\n",
            "    petal_length: 139.8\n",
            "    petal_width: 54.1\n",
            "\n",
            "  setosa-virginica:\n",
            "    sepal_length: 79.10000000000002\n",
            "    sepal_width: 26.6\n",
            "    petal_length: 204.4\n",
            "    petal_width: 89.1\n",
            "\n",
            "  virginica-versicolor:\n",
            "    sepal_length: 43.60000000000001\n",
            "    sepal_width: 18.799999999999994\n",
            "    petal_length: 65.19999999999999\n",
            "    petal_width: 35.400000000000006\n"
          ],
          "name": "stdout"
        }
      ]
    },
    {
      "metadata": {
        "id": "IQKFSlGwgFlL",
        "colab_type": "text"
      },
      "cell_type": "markdown",
      "source": [
        "\n",
        "- Presente conclusiones sobre para que pueden servir estos análisis para el problema de clasificación hablado en clase \n",
        "\n",
        "\n",
        "\n",
        "\n",
        "> La utilización de gráficos que representan el comportamiento de datos, permite conocer comportamientos, tendencias y relaciones entre variables que son claves para modelos de analítica descriptiva que a su vez son base fundamental para la inferencia y modelos predictivos a partir de históricos de datos.\n",
        "\n",
        "\n",
        "\n",
        "\n",
        "- Que información en comun generan estos dos analisis, son congruentes, porque?\n",
        "\n",
        "- Utilize por lo menos dos análisis del curso de estadistica y/o de visualización de datos  para este problema"
      ]
    }
  ]
}